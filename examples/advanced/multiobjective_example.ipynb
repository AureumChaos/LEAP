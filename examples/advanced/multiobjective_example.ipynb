{
 "cells": [
  {
   "cell_type": "markdown",
   "id": "7b28d373",
   "metadata": {},
   "source": [
    "# Evolutionary multiobjective optimization\n",
    "\n",
    "LEAP currently directly supports one form of multiobjective optimization, NSGA-II, but there is intent to implement other common evolutionary multiobjective algorithms.\n",
    "\n",
    "## Naive evolutionary multiobjective optimization\n",
    "\n",
    "A naive approach to evolutionary multiobjective optimization would be to simply sum up the fitnesses, biased by a weight, as a final, single fitness, $f(x)$:\n",
    "\n",
    "$f(x) = \\sum \\limits_{i=0}^n w_i f_i$\n",
    "\n",
    "Where $f_i$ is the fitness for objective _i_.\n",
    "\n",
    "However, there isn't very satisfying because we have to decide on $w_i$, which we usually don't know. A better approach would be to evolve solutions along a Pareto front where each solution on the front dominates other solutions.\n",
    "\n",
    "## NSGA-II\n",
    "\n",
    "The NSGA-II algorithm is just one such evolutionary multiobjective optimization (MO) algorithm.\n",
    "\n",
    "Deb, Kalyanmoy, Amrit Pratap, Sameer Agarwal, and T. A. M. T. Meyarivan.\n",
    "\"A Fast and Elitist Multiobjective Genetic Algorithm: NSGA-II.\" IEEE\n",
    "transactions on evolutionary computation 6, no. 2 (2002): 182-197.\n"
   ]
  },
  {
   "cell_type": "code",
   "execution_count": 1,
   "id": "79183661",
   "metadata": {},
   "outputs": [],
   "source": [
    "import sys\n",
    "import pandas as pd\n",
    "\n",
    "from leap_ec.representation import Representation\n",
    "from leap_ec.ops import tournament_selection, clone, evaluate, pool\n",
    "from leap_ec.real_rep.initializers import create_real_vector\n",
    "from leap_ec.real_rep.ops import mutate_gaussian\n",
    "from leap_ec.probe import print_individual\n",
    "from leap_ec.global_vars import context\n",
    "\n",
    "from leap_ec.multiobjective.nsga2 import generalized_nsga_2\n",
    "from leap_ec.multiobjective.problems import SCHProblem"
   ]
  },
  {
   "cell_type": "code",
   "execution_count": 2,
   "id": "036a52bc",
   "metadata": {},
   "outputs": [],
   "source": [
    "# These are smaller than the values used in original paper, but suffice for demonstration purposes.\n",
    "POP_SIZE=50\n",
    "MAX_GENERATIONS=100"
   ]
  },
  {
   "cell_type": "markdown",
   "id": "de600188",
   "metadata": {},
   "source": [
    "We supply one of the benchmark functions, Schaffer's Study (that we refer to as the \"SCHProblem\"), used in Deb's original paper that uses a single gene from which we calculate two separate fitnesses.\n",
    "\n",
    "$f_1(x) = x^2$\n",
    "\n",
    "$f_2(x) = (x - 2)^2$\n",
    "\n",
    "For which there are two optimal solutinos, $x \\in [0,2]$"
   ]
  },
  {
   "cell_type": "code",
   "execution_count": 3,
   "id": "83df7c48",
   "metadata": {},
   "outputs": [],
   "source": [
    "sch_problem = SCHProblem() # Schaffer's Study problem"
   ]
  },
  {
   "cell_type": "code",
   "execution_count": 4,
   "id": "9c914fda",
   "metadata": {},
   "outputs": [],
   "source": [
    "# We're only going to do a narrow range, which is sufficient for demonstration purposes. The original\n",
    "# NSGA-II paper explored a wider range.\n",
    "sch_representation = Representation(initialize=create_real_vector(bounds=[(-10, 10)]))"
   ]
  },
  {
   "cell_type": "code",
   "execution_count": 5,
   "id": "901368b3",
   "metadata": {},
   "outputs": [],
   "source": [
    "def print_generation(population):\n",
    "    \"\"\" Pipeline probe for echoing current generation \"\"\"\n",
    "    if context['leap']['generation'] % 10 == 0:\n",
    "        print(f\"generation: {context['leap']['generation']}\")\n",
    "    return population"
   ]
  },
  {
   "cell_type": "code",
   "execution_count": 6,
   "id": "4738b50c",
   "metadata": {},
   "outputs": [],
   "source": [
    "pipeline = [tournament_selection, # uses domination comparison in MultiObjective.worse_than()\n",
    "            clone, \n",
    "            mutate_gaussian(std=0.5, expected_num_mutations=1),\n",
    "            evaluate,\n",
    "#             print_individual, # only if you want to see every single new offspring\n",
    "            pool(size=POP_SIZE),\n",
    "            print_generation]"
   ]
  },
  {
   "cell_type": "code",
   "execution_count": 7,
   "id": "718cf26d",
   "metadata": {},
   "outputs": [
    {
     "name": "stdout",
     "output_type": "stream",
     "text": [
      "generation: 0\n"
     ]
    },
    {
     "ename": "AttributeError",
     "evalue": "'list' object has no attribute 'rank'",
     "output_type": "error",
     "traceback": [
      "\u001B[0;31m---------------------------------------------------------------------------\u001B[0m",
      "\u001B[0;31mAttributeError\u001B[0m                            Traceback (most recent call last)",
      "\u001B[0;32m<ipython-input-7-9fdf05f195cf>\u001B[0m in \u001B[0;36m<module>\u001B[0;34m\u001B[0m\n\u001B[0;32m----> 1\u001B[0;31m final_pop = generalized_nsga_2(max_generations=MAX_GENERATIONS, \n\u001B[0m\u001B[1;32m      2\u001B[0m                    \u001B[0mpop_size\u001B[0m\u001B[0;34m=\u001B[0m\u001B[0mPOP_SIZE\u001B[0m\u001B[0;34m,\u001B[0m\u001B[0;34m\u001B[0m\u001B[0;34m\u001B[0m\u001B[0m\n\u001B[1;32m      3\u001B[0m                    \u001B[0mproblem\u001B[0m\u001B[0;34m=\u001B[0m\u001B[0msch_problem\u001B[0m\u001B[0;34m,\u001B[0m\u001B[0;34m\u001B[0m\u001B[0;34m\u001B[0m\u001B[0m\n\u001B[1;32m      4\u001B[0m                    \u001B[0mrepresentation\u001B[0m\u001B[0;34m=\u001B[0m\u001B[0msch_representation\u001B[0m\u001B[0;34m,\u001B[0m\u001B[0;34m\u001B[0m\u001B[0;34m\u001B[0m\u001B[0m\n\u001B[1;32m      5\u001B[0m                    pipeline=pipeline)\n",
      "\u001B[0;32m~/miniconda3/envs/leap/lib/python3.8/site-packages/leap_ec/multiobjective/nsga2.py\u001B[0m in \u001B[0;36mgeneralized_nsga_2\u001B[0;34m(max_generations, pop_size, problem, representation, pipeline, rank_func, stop, init_evaluate, start_generation, context)\u001B[0m\n\u001B[1;32m    113\u001B[0m     \u001B[0;32mwhile\u001B[0m \u001B[0;34m(\u001B[0m\u001B[0mgeneration_counter\u001B[0m\u001B[0;34m.\u001B[0m\u001B[0mgeneration\u001B[0m\u001B[0;34m(\u001B[0m\u001B[0;34m)\u001B[0m \u001B[0;34m<\u001B[0m \u001B[0mmax_generations\u001B[0m\u001B[0;34m)\u001B[0m \u001B[0;32mand\u001B[0m\u001B[0;31m \u001B[0m\u001B[0;31m\\\u001B[0m\u001B[0;34m\u001B[0m\u001B[0;34m\u001B[0m\u001B[0m\n\u001B[1;32m    114\u001B[0m             \u001B[0;32mnot\u001B[0m \u001B[0mstop\u001B[0m\u001B[0;34m(\u001B[0m\u001B[0mparents\u001B[0m\u001B[0;34m)\u001B[0m\u001B[0;34m:\u001B[0m\u001B[0;34m\u001B[0m\u001B[0;34m\u001B[0m\u001B[0m\n\u001B[0;32m--> 115\u001B[0;31m         offspring = pipe(parents,\n\u001B[0m\u001B[1;32m    116\u001B[0m                          \u001B[0;31m# pipeline for user defined selection, cloning,\u001B[0m\u001B[0;34m\u001B[0m\u001B[0;34m\u001B[0m\u001B[0;34m\u001B[0m\u001B[0m\n\u001B[1;32m    117\u001B[0m                          \u001B[0;31m# mutation, and maybe crossover\u001B[0m\u001B[0;34m\u001B[0m\u001B[0;34m\u001B[0m\u001B[0;34m\u001B[0m\u001B[0m\n",
      "\u001B[0;32m~/miniconda3/envs/leap/lib/python3.8/site-packages/toolz/functoolz.py\u001B[0m in \u001B[0;36mpipe\u001B[0;34m(data, *funcs)\u001B[0m\n\u001B[1;32m    625\u001B[0m     \"\"\"\n\u001B[1;32m    626\u001B[0m     \u001B[0;32mfor\u001B[0m \u001B[0mfunc\u001B[0m \u001B[0;32min\u001B[0m \u001B[0mfuncs\u001B[0m\u001B[0;34m:\u001B[0m\u001B[0;34m\u001B[0m\u001B[0;34m\u001B[0m\u001B[0m\n\u001B[0;32m--> 627\u001B[0;31m         \u001B[0mdata\u001B[0m \u001B[0;34m=\u001B[0m \u001B[0mfunc\u001B[0m\u001B[0;34m(\u001B[0m\u001B[0mdata\u001B[0m\u001B[0;34m)\u001B[0m\u001B[0;34m\u001B[0m\u001B[0;34m\u001B[0m\u001B[0m\n\u001B[0m\u001B[1;32m    628\u001B[0m     \u001B[0;32mreturn\u001B[0m \u001B[0mdata\u001B[0m\u001B[0;34m\u001B[0m\u001B[0;34m\u001B[0m\u001B[0m\n\u001B[1;32m    629\u001B[0m \u001B[0;34m\u001B[0m\u001B[0m\n",
      "\u001B[0;32m~/miniconda3/envs/leap/lib/python3.8/site-packages/toolz/functoolz.py\u001B[0m in \u001B[0;36m__call__\u001B[0;34m(self, *args, **kwargs)\u001B[0m\n\u001B[1;32m    301\u001B[0m     \u001B[0;32mdef\u001B[0m \u001B[0m__call__\u001B[0m\u001B[0;34m(\u001B[0m\u001B[0mself\u001B[0m\u001B[0;34m,\u001B[0m \u001B[0;34m*\u001B[0m\u001B[0margs\u001B[0m\u001B[0;34m,\u001B[0m \u001B[0;34m**\u001B[0m\u001B[0mkwargs\u001B[0m\u001B[0;34m)\u001B[0m\u001B[0;34m:\u001B[0m\u001B[0;34m\u001B[0m\u001B[0;34m\u001B[0m\u001B[0m\n\u001B[1;32m    302\u001B[0m         \u001B[0;32mtry\u001B[0m\u001B[0;34m:\u001B[0m\u001B[0;34m\u001B[0m\u001B[0;34m\u001B[0m\u001B[0m\n\u001B[0;32m--> 303\u001B[0;31m             \u001B[0;32mreturn\u001B[0m \u001B[0mself\u001B[0m\u001B[0;34m.\u001B[0m\u001B[0m_partial\u001B[0m\u001B[0;34m(\u001B[0m\u001B[0;34m*\u001B[0m\u001B[0margs\u001B[0m\u001B[0;34m,\u001B[0m \u001B[0;34m**\u001B[0m\u001B[0mkwargs\u001B[0m\u001B[0;34m)\u001B[0m\u001B[0;34m\u001B[0m\u001B[0;34m\u001B[0m\u001B[0m\n\u001B[0m\u001B[1;32m    304\u001B[0m         \u001B[0;32mexcept\u001B[0m \u001B[0mTypeError\u001B[0m \u001B[0;32mas\u001B[0m \u001B[0mexc\u001B[0m\u001B[0;34m:\u001B[0m\u001B[0;34m\u001B[0m\u001B[0;34m\u001B[0m\u001B[0m\n\u001B[1;32m    305\u001B[0m             \u001B[0;32mif\u001B[0m \u001B[0mself\u001B[0m\u001B[0;34m.\u001B[0m\u001B[0m_should_curry\u001B[0m\u001B[0;34m(\u001B[0m\u001B[0margs\u001B[0m\u001B[0;34m,\u001B[0m \u001B[0mkwargs\u001B[0m\u001B[0;34m,\u001B[0m \u001B[0mexc\u001B[0m\u001B[0;34m)\u001B[0m\u001B[0;34m:\u001B[0m\u001B[0;34m\u001B[0m\u001B[0;34m\u001B[0m\u001B[0m\n",
      "\u001B[0;32m~/miniconda3/envs/leap/lib/python3.8/site-packages/leap_ec/ops.py\u001B[0m in \u001B[0;36mtypecheck_f\u001B[0;34m(population, *args, **kwargs)\u001B[0m\n\u001B[1;32m    141\u001B[0m                     f\"expected a list.\")\n\u001B[1;32m    142\u001B[0m \u001B[0;34m\u001B[0m\u001B[0m\n\u001B[0;32m--> 143\u001B[0;31m         \u001B[0mresult\u001B[0m \u001B[0;34m=\u001B[0m \u001B[0mf\u001B[0m\u001B[0;34m(\u001B[0m\u001B[0mpopulation\u001B[0m\u001B[0;34m,\u001B[0m \u001B[0;34m*\u001B[0m\u001B[0margs\u001B[0m\u001B[0;34m,\u001B[0m \u001B[0;34m**\u001B[0m\u001B[0mkwargs\u001B[0m\u001B[0;34m)\u001B[0m\u001B[0;34m\u001B[0m\u001B[0;34m\u001B[0m\u001B[0m\n\u001B[0m\u001B[1;32m    144\u001B[0m \u001B[0;34m\u001B[0m\u001B[0m\n\u001B[1;32m    145\u001B[0m         \u001B[0;32mif\u001B[0m \u001B[0;32mnot\u001B[0m \u001B[0misinstance\u001B[0m\u001B[0;34m(\u001B[0m\u001B[0mresult\u001B[0m\u001B[0;34m,\u001B[0m \u001B[0mlist\u001B[0m\u001B[0;34m)\u001B[0m\u001B[0;34m:\u001B[0m\u001B[0;34m\u001B[0m\u001B[0;34m\u001B[0m\u001B[0m\n",
      "\u001B[0;32m~/miniconda3/envs/leap/lib/python3.8/site-packages/leap_ec/ops.py\u001B[0m in \u001B[0;36mtruncation_selection\u001B[0;34m(offspring, size, parents, key)\u001B[0m\n\u001B[1;32m    741\u001B[0m                 size, itertools.chain(offspring, parents), key=key))\n\u001B[1;32m    742\u001B[0m         \u001B[0;32melse\u001B[0m\u001B[0;34m:\u001B[0m\u001B[0;34m\u001B[0m\u001B[0;34m\u001B[0m\u001B[0m\n\u001B[0;32m--> 743\u001B[0;31m             \u001B[0;32mreturn\u001B[0m \u001B[0mlist\u001B[0m\u001B[0;34m(\u001B[0m\u001B[0mtoolz\u001B[0m\u001B[0;34m.\u001B[0m\u001B[0mitertoolz\u001B[0m\u001B[0;34m.\u001B[0m\u001B[0mtopk\u001B[0m\u001B[0;34m(\u001B[0m\u001B[0msize\u001B[0m\u001B[0;34m,\u001B[0m \u001B[0moffspring\u001B[0m\u001B[0;34m,\u001B[0m \u001B[0mkey\u001B[0m\u001B[0;34m=\u001B[0m\u001B[0mkey\u001B[0m\u001B[0;34m)\u001B[0m\u001B[0;34m)\u001B[0m\u001B[0;34m\u001B[0m\u001B[0;34m\u001B[0m\u001B[0m\n\u001B[0m\u001B[1;32m    744\u001B[0m     \u001B[0;32melse\u001B[0m\u001B[0;34m:\u001B[0m\u001B[0;34m\u001B[0m\u001B[0;34m\u001B[0m\u001B[0m\n\u001B[1;32m    745\u001B[0m         \u001B[0;32mif\u001B[0m \u001B[0mparents\u001B[0m \u001B[0;32mis\u001B[0m \u001B[0;32mnot\u001B[0m \u001B[0;32mNone\u001B[0m\u001B[0;34m:\u001B[0m\u001B[0;34m\u001B[0m\u001B[0;34m\u001B[0m\u001B[0m\n",
      "\u001B[0;32m~/miniconda3/envs/leap/lib/python3.8/site-packages/toolz/itertoolz.py\u001B[0m in \u001B[0;36mtopk\u001B[0;34m(k, seq, key)\u001B[0m\n\u001B[1;32m    981\u001B[0m     \u001B[0;32mif\u001B[0m \u001B[0mkey\u001B[0m \u001B[0;32mis\u001B[0m \u001B[0;32mnot\u001B[0m \u001B[0;32mNone\u001B[0m \u001B[0;32mand\u001B[0m \u001B[0;32mnot\u001B[0m \u001B[0mcallable\u001B[0m\u001B[0;34m(\u001B[0m\u001B[0mkey\u001B[0m\u001B[0;34m)\u001B[0m\u001B[0;34m:\u001B[0m\u001B[0;34m\u001B[0m\u001B[0;34m\u001B[0m\u001B[0m\n\u001B[1;32m    982\u001B[0m         \u001B[0mkey\u001B[0m \u001B[0;34m=\u001B[0m \u001B[0mgetter\u001B[0m\u001B[0;34m(\u001B[0m\u001B[0mkey\u001B[0m\u001B[0;34m)\u001B[0m\u001B[0;34m\u001B[0m\u001B[0;34m\u001B[0m\u001B[0m\n\u001B[0;32m--> 983\u001B[0;31m     \u001B[0;32mreturn\u001B[0m \u001B[0mtuple\u001B[0m\u001B[0;34m(\u001B[0m\u001B[0mheapq\u001B[0m\u001B[0;34m.\u001B[0m\u001B[0mnlargest\u001B[0m\u001B[0;34m(\u001B[0m\u001B[0mk\u001B[0m\u001B[0;34m,\u001B[0m \u001B[0mseq\u001B[0m\u001B[0;34m,\u001B[0m \u001B[0mkey\u001B[0m\u001B[0;34m=\u001B[0m\u001B[0mkey\u001B[0m\u001B[0;34m)\u001B[0m\u001B[0;34m)\u001B[0m\u001B[0;34m\u001B[0m\u001B[0;34m\u001B[0m\u001B[0m\n\u001B[0m\u001B[1;32m    984\u001B[0m \u001B[0;34m\u001B[0m\u001B[0m\n\u001B[1;32m    985\u001B[0m \u001B[0;34m\u001B[0m\u001B[0m\n",
      "\u001B[0;32m~/miniconda3/envs/leap/lib/python3.8/heapq.py\u001B[0m in \u001B[0;36mnlargest\u001B[0;34m(n, iterable, key)\u001B[0m\n\u001B[1;32m    561\u001B[0m     \u001B[0;31m# General case, slowest method\u001B[0m\u001B[0;34m\u001B[0m\u001B[0;34m\u001B[0m\u001B[0;34m\u001B[0m\u001B[0m\n\u001B[1;32m    562\u001B[0m     \u001B[0mit\u001B[0m \u001B[0;34m=\u001B[0m \u001B[0miter\u001B[0m\u001B[0;34m(\u001B[0m\u001B[0miterable\u001B[0m\u001B[0;34m)\u001B[0m\u001B[0;34m\u001B[0m\u001B[0;34m\u001B[0m\u001B[0m\n\u001B[0;32m--> 563\u001B[0;31m     \u001B[0mresult\u001B[0m \u001B[0;34m=\u001B[0m \u001B[0;34m[\u001B[0m\u001B[0;34m(\u001B[0m\u001B[0mkey\u001B[0m\u001B[0;34m(\u001B[0m\u001B[0melem\u001B[0m\u001B[0;34m)\u001B[0m\u001B[0;34m,\u001B[0m \u001B[0mi\u001B[0m\u001B[0;34m,\u001B[0m \u001B[0melem\u001B[0m\u001B[0;34m)\u001B[0m \u001B[0;32mfor\u001B[0m \u001B[0mi\u001B[0m\u001B[0;34m,\u001B[0m \u001B[0melem\u001B[0m \u001B[0;32min\u001B[0m \u001B[0mzip\u001B[0m\u001B[0;34m(\u001B[0m\u001B[0mrange\u001B[0m\u001B[0;34m(\u001B[0m\u001B[0;36m0\u001B[0m\u001B[0;34m,\u001B[0m \u001B[0;34m-\u001B[0m\u001B[0mn\u001B[0m\u001B[0;34m,\u001B[0m \u001B[0;34m-\u001B[0m\u001B[0;36m1\u001B[0m\u001B[0;34m)\u001B[0m\u001B[0;34m,\u001B[0m \u001B[0mit\u001B[0m\u001B[0;34m)\u001B[0m\u001B[0;34m]\u001B[0m\u001B[0;34m\u001B[0m\u001B[0;34m\u001B[0m\u001B[0m\n\u001B[0m\u001B[1;32m    564\u001B[0m     \u001B[0;32mif\u001B[0m \u001B[0;32mnot\u001B[0m \u001B[0mresult\u001B[0m\u001B[0;34m:\u001B[0m\u001B[0;34m\u001B[0m\u001B[0;34m\u001B[0m\u001B[0m\n\u001B[1;32m    565\u001B[0m         \u001B[0;32mreturn\u001B[0m \u001B[0mresult\u001B[0m\u001B[0;34m\u001B[0m\u001B[0;34m\u001B[0m\u001B[0m\n",
      "\u001B[0;32m~/miniconda3/envs/leap/lib/python3.8/heapq.py\u001B[0m in \u001B[0;36m<listcomp>\u001B[0;34m(.0)\u001B[0m\n\u001B[1;32m    561\u001B[0m     \u001B[0;31m# General case, slowest method\u001B[0m\u001B[0;34m\u001B[0m\u001B[0;34m\u001B[0m\u001B[0;34m\u001B[0m\u001B[0m\n\u001B[1;32m    562\u001B[0m     \u001B[0mit\u001B[0m \u001B[0;34m=\u001B[0m \u001B[0miter\u001B[0m\u001B[0;34m(\u001B[0m\u001B[0miterable\u001B[0m\u001B[0;34m)\u001B[0m\u001B[0;34m\u001B[0m\u001B[0;34m\u001B[0m\u001B[0m\n\u001B[0;32m--> 563\u001B[0;31m     \u001B[0mresult\u001B[0m \u001B[0;34m=\u001B[0m \u001B[0;34m[\u001B[0m\u001B[0;34m(\u001B[0m\u001B[0mkey\u001B[0m\u001B[0;34m(\u001B[0m\u001B[0melem\u001B[0m\u001B[0;34m)\u001B[0m\u001B[0;34m,\u001B[0m \u001B[0mi\u001B[0m\u001B[0;34m,\u001B[0m \u001B[0melem\u001B[0m\u001B[0;34m)\u001B[0m \u001B[0;32mfor\u001B[0m \u001B[0mi\u001B[0m\u001B[0;34m,\u001B[0m \u001B[0melem\u001B[0m \u001B[0;32min\u001B[0m \u001B[0mzip\u001B[0m\u001B[0;34m(\u001B[0m\u001B[0mrange\u001B[0m\u001B[0;34m(\u001B[0m\u001B[0;36m0\u001B[0m\u001B[0;34m,\u001B[0m \u001B[0;34m-\u001B[0m\u001B[0mn\u001B[0m\u001B[0;34m,\u001B[0m \u001B[0;34m-\u001B[0m\u001B[0;36m1\u001B[0m\u001B[0;34m)\u001B[0m\u001B[0;34m,\u001B[0m \u001B[0mit\u001B[0m\u001B[0;34m)\u001B[0m\u001B[0;34m]\u001B[0m\u001B[0;34m\u001B[0m\u001B[0;34m\u001B[0m\u001B[0m\n\u001B[0m\u001B[1;32m    564\u001B[0m     \u001B[0;32mif\u001B[0m \u001B[0;32mnot\u001B[0m \u001B[0mresult\u001B[0m\u001B[0;34m:\u001B[0m\u001B[0;34m\u001B[0m\u001B[0;34m\u001B[0m\u001B[0m\n\u001B[1;32m    565\u001B[0m         \u001B[0;32mreturn\u001B[0m \u001B[0mresult\u001B[0m\u001B[0;34m\u001B[0m\u001B[0;34m\u001B[0m\u001B[0m\n",
      "\u001B[0;32m~/miniconda3/envs/leap/lib/python3.8/site-packages/leap_ec/multiobjective/nsga2.py\u001B[0m in \u001B[0;36m<lambda>\u001B[0;34m(x)\u001B[0m\n\u001B[1;32m    122\u001B[0m                          \u001B[0;31m# truncation_selection w/ key should do this implicitly\u001B[0m\u001B[0;34m\u001B[0m\u001B[0;34m\u001B[0m\u001B[0;34m\u001B[0m\u001B[0m\n\u001B[1;32m    123\u001B[0m                          ops.truncation_selection(size=len(parents),\n\u001B[0;32m--> 124\u001B[0;31m                                                   key=lambda x: (-x.rank,\n\u001B[0m\u001B[1;32m    125\u001B[0m                                                                  x.distance)))\n\u001B[1;32m    126\u001B[0m \u001B[0;34m\u001B[0m\u001B[0m\n",
      "\u001B[0;31mAttributeError\u001B[0m: 'list' object has no attribute 'rank'"
     ]
    }
   ],
   "source": [
    "final_pop = generalized_nsga_2(max_generations=MAX_GENERATIONS, \n",
    "                   pop_size=POP_SIZE, \n",
    "                   problem=sch_problem, \n",
    "                   representation=sch_representation,\n",
    "                   pipeline=pipeline)"
   ]
  },
  {
   "cell_type": "code",
   "execution_count": null,
   "id": "e3ea6627",
   "metadata": {},
   "outputs": [],
   "source": [
    "df = pd.DataFrame([(x.genome[0], x.fitness[0], x.fitness[1], x.rank, x.distance) for x in final_pop])"
   ]
  },
  {
   "cell_type": "code",
   "execution_count": null,
   "id": "48837bad",
   "metadata": {},
   "outputs": [],
   "source": [
    "df.columns = ['gene','f1','f2','rank','distance']"
   ]
  },
  {
   "cell_type": "code",
   "execution_count": null,
   "id": "babf6a89",
   "metadata": {},
   "outputs": [],
   "source": [
    "df"
   ]
  },
  {
   "cell_type": "markdown",
   "id": "25bd816e",
   "metadata": {},
   "source": [
    "## Visualization of Pareto front\n",
    "\n",
    "By plotting the two fitnesses against each other we can see the Pareto front of solutions."
   ]
  },
  {
   "cell_type": "code",
   "execution_count": null,
   "id": "daa58487",
   "metadata": {},
   "outputs": [],
   "source": [
    "df.plot(x='f1',y='f2', kind='scatter')"
   ]
  }
 ],
 "metadata": {
  "kernelspec": {
   "display_name": "Python 3.10.6 64-bit",
   "language": "python",
   "name": "python3"
  },
  "language_info": {
   "codemirror_mode": {
    "name": "ipython",
    "version": 3
   },
   "file_extension": ".py",
   "mimetype": "text/x-python",
   "name": "python",
   "nbconvert_exporter": "python",
   "pygments_lexer": "ipython3",
   "version": "3.10.6"
  },
  "vscode": {
   "interpreter": {
    "hash": "916dbcbb3f70747c44a77c7bcd40155683ae19c65e1c03b4aa3499c5328201f1"
   }
  }
 },
 "nbformat": 4,
 "nbformat_minor": 5
}
