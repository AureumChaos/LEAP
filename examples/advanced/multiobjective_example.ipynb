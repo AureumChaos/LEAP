{
 "cells": [
  {
   "cell_type": "markdown",
   "id": "83ebec82",
   "metadata": {},
   "source": [
    "# Evolutionary multiobjective optimization\n",
    "\n",
    "LEAP currently directly supports one form of multiobjective optimization, NSGA-II, but there is intent to implement other common evolutionary multiobjective algorithms.\n",
    "\n",
    "## Naive evolutionary multiobjective optimization\n",
    "\n",
    "A naive approach to evolutionary multiobjective optimization would be to simply sum up the fitnesses, biased by a weight, as a final, single fitness, $f(x)$:\n",
    "\n",
    "$f(x) = \\sum \\limits_{i=0}^n w_i f_i$\n",
    "\n",
    "Where $f_i$ is the fitness for objective _i_.\n",
    "\n",
    "However, there isn't very satisfying because we have to decide on $w_i$, which we usually don't know. A better approach would be to evolve solutions along a Pareto front where each solution on the front dominates other solutions.\n",
    "\n",
    "## NSGA-II\n",
    "\n",
    "The NSGA-II algorithm is just one such evolutionary multiobjective optimization (MO) algorithm.\n",
    "\n",
    "Deb, Kalyanmoy, Amrit Pratap, Sameer Agarwal, and T. A. M. T. Meyarivan.\n",
    "\"A Fast and Elitist Multiobjective Genetic Algorithm: NSGA-II.\" IEEE\n",
    "transactions on evolutionary computation 6, no. 2 (2002): 182-197.\n"
   ]
  },
  {
   "cell_type": "code",
   "execution_count": 9,
   "id": "19c729a7",
   "metadata": {},
   "outputs": [],
   "source": [
    "import sys\n",
    "\n",
    "from leap_ec.representation import Representation\n",
    "from leap_ec.real_rep.initializers import create_real_vector\n",
    "\n",
    "from leap_ec.multiobjective.nsga2 import nsga_2\n",
    "from leap_ec.multiobjective.problems import SCHProblem"
   ]
  },
  {
   "cell_type": "code",
   "execution_count": 12,
   "id": "bbb7e63a",
   "metadata": {},
   "outputs": [],
   "source": [
    "sch_problem = SCHProblem() # TODO expand these separately with explanation\n",
    "sch_representation = Representation(initialize=create_real_vector(bounds=[(-100, 100), (-100, 100)]))"
   ]
  },
  {
   "cell_type": "code",
   "execution_count": 13,
   "id": "800b7974",
   "metadata": {},
   "outputs": [],
   "source": [
    "pipeline = None # FIXME you were here"
   ]
  },
  {
   "cell_type": "code",
   "execution_count": null,
   "id": "a256cf51",
   "metadata": {},
   "outputs": [],
   "source": [
    "final_pop = nsga_2(max_generations=100, pop_size=100, problem=sch_problem, representation=sch_representation)"
   ]
  }
 ],
 "metadata": {
  "kernelspec": {
   "display_name": "Python 3",
   "language": "python",
   "name": "python3"
  },
  "language_info": {
   "codemirror_mode": {
    "name": "ipython",
    "version": 3
   },
   "file_extension": ".py",
   "mimetype": "text/x-python",
   "name": "python",
   "nbconvert_exporter": "python",
   "pygments_lexer": "ipython3",
   "version": "3.8.10"
  }
 },
 "nbformat": 4,
 "nbformat_minor": 5
}
