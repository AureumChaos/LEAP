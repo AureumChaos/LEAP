{
 "cells": [
  {
   "cell_type": "markdown",
   "metadata": {
    "pycharm": {
     "name": "#%% md\n"
    }
   },
   "source": [
    "# Segmented Representations\n",
    "\n",
    "One common representation in evolutionary algorithms (EA) is that of a \"segmented representation.\"  That is, each individual is comprised of a sequence of segments, which are themselves fixed-length sequences, and are usually binary, but needn't be.  Each segment represents a salient feature, such as a rule in a Pitt Approach system, or a convolutional layer and its hyperparameters, as is the case for Multi-node Evolutionary Neural Networks for Deep Learning (MENNDL).\n",
    "\n",
    "There are two broad categories for these systems: those that have a fixed number of such segments, as is the case currently for MENNDL, and a dynamic number of segments, as is the case for Pitt Approach classifiers.\n",
    "\n",
    "In this notebook we look at LEAP support for segmented representations, starting with initializers and decoders, and then looking at the mutation pipeline operator.  We then plug all that into a simple EA example.\n"
   ]
  },
  {
   "cell_type": "code",
   "execution_count": 1,
   "metadata": {
    "pycharm": {
     "name": "#%%\n"
    }
   },
   "outputs": [],
   "source": [
    "import sys\n",
    "import random\n",
    "import functools\n",
    "from pprint import pprint, pformat\n",
    "import numpy as np\n",
    "from toolz import pipe\n",
    "\n",
    "from leap_ec.individual import Individual\n",
    "from leap_ec.ops import pool, cyclic_selection, clone\n",
    "\n",
    "from leap_ec.segmented_rep.initializers import create_segmented_sequence\n",
    "from leap_ec.segmented_rep.decoders import SegmentedDecoder\n",
    "from leap_ec.segmented_rep.ops import apply_mutation, add_segment, remove_segment, copy_segment\n",
    "\n",
    "from leap_ec.binary_rep.initializers import create_binary_sequence\n",
    "from leap_ec.binary_rep.ops import genome_mutate_bitflip\n",
    "from leap_ec.binary_rep.decoders import BinaryToIntDecoder\n",
    "\n",
    "from leap_ec.real_rep.initializers import create_real_vector\n",
    "from leap_ec.real_rep.ops import genome_mutate_gaussian"
   ]
  },
  {
   "cell_type": "markdown",
   "metadata": {
    "pycharm": {
     "name": "#%% md\n"
    }
   },
   "source": [
    "## Binary genomes\n",
    "\n",
    "We first look at segmented representations with segments that use a binary representaion."
   ]
  },
  {
   "cell_type": "code",
   "execution_count": 2,
   "metadata": {
    "pycharm": {
     "name": "#%%\n"
    }
   },
   "outputs": [
    {
     "name": "stdout",
     "output_type": "stream",
     "text": [
      "[array([ True,  True,  True,  True,  True]), array([ True, False,  True,  True, False]), array([ True, False, False,  True, False]), array([ True, False, False, False, False])]\n"
     ]
    }
   ],
   "source": [
    "# Create a genome of four segments of five binary digits.\n",
    "seg = create_segmented_sequence(4, create_binary_sequence(5))\n",
    "print(seg())"
   ]
  },
  {
   "cell_type": "code",
   "execution_count": 3,
   "metadata": {
    "pycharm": {
     "name": "#%%\n"
    }
   },
   "outputs": [
    {
     "name": "stdout",
     "output_type": "stream",
     "text": [
      "0 [array([False, False, False,  True,  True]), array([False,  True, False, False, False])]\n",
      "1 [array([ True, False, False,  True, False]), array([False,  True,  True,  True,  True]), array([False, False,  True, False,  True]), array([ True, False,  True, False, False]), array([False,  True, False, False, False])]\n",
      "2 [array([False, False, False, False, False]), array([False,  True, False, False, False]), array([ True, False, False,  True, False]), array([ True, False, False,  True,  True])]\n",
      "3 [array([ True, False, False,  True, False]), array([False, False,  True, False, False]), array([False, False, False,  True, False]), array([False, False, False, False,  True])]\n",
      "4 [array([False,  True, False,  True,  True]), array([ True, False, False, False, False]), array([ True,  True,  True, False,  True]), array([ True,  True, False,  True, False])]\n"
     ]
    }
   ],
   "source": [
    "# Now create five genomes of varying length by passing in a function for `length` that provides an\n",
    "# integer drawn from a distribution.\n",
    "seqs = [] # Save sequences for next step\n",
    "for i in range(5):\n",
    "    seq = create_segmented_sequence(functools.partial(random.randint, a=1,b=5), create_binary_sequence(5))()\n",
    "    print(i, seq)\n",
    "    seqs.append(seq)"
   ]
  },
  {
   "cell_type": "markdown",
   "metadata": {
    "pycharm": {
     "name": "#%% md\n"
    }
   },
   "source": [
    "Now let's see about decoding those segments.  The segmented representation relies on a secondary decoder that's applied to each segment.  In this case, we'll just use a simple binary to int decoder on the segments we created in the previous step."
   ]
  },
  {
   "cell_type": "code",
   "execution_count": 4,
   "metadata": {
    "pycharm": {
     "name": "#%%\n"
    }
   },
   "outputs": [
    {
     "name": "stdout",
     "output_type": "stream",
     "text": [
      "0 [array([0, 3]), array([1, 0])]\n",
      "1 [array([2, 2]), array([1, 7]), array([0, 5]), array([2, 4]), array([1, 0])]\n",
      "2 [array([0, 0]), array([1, 0]), array([2, 2]), array([2, 3])]\n",
      "3 [array([2, 2]), array([0, 4]), array([0, 2]), array([0, 1])]\n",
      "4 [array([1, 3]), array([2, 0]), array([3, 5]), array([3, 2])]\n"
     ]
    }
   ],
   "source": [
    "# We want each segment to have two integers from the five bits.\n",
    "decoder = SegmentedDecoder(BinaryToIntDecoder(2,3)) \n",
    "\n",
    "for i, seq in enumerate(seqs):\n",
    "    vals = decoder.decode(seq)\n",
    "    print(i, vals)"
   ]
  },
  {
   "cell_type": "code",
   "execution_count": 5,
   "metadata": {
    "pycharm": {
     "name": "#%%\n"
    }
   },
   "outputs": [
    {
     "name": "stdout",
     "output_type": "stream",
     "text": [
      "original: Individual<23db28e1-4994-4bc0-aeee-243873b24d3e> with fitness None\n",
      "mutated: Individual<23db28e1-4994-4bc0-aeee-243873b24d3e> with fitness None\n"
     ]
    }
   ],
   "source": [
    "# And now for mutation, which shows that, on average, a single value is changed in an example individual.  The\n",
    "# takeaway here is that segmented mutation just uses a mutator from another representation and naively applies it.\n",
    "\n",
    "original = Individual(np.array([[0,0],[1,1]]))\n",
    "print('original:', original)\n",
    "mutated = next(apply_mutation(iter([original]),mutator=genome_mutate_bitflip(expected_num_mutations=1)))\n",
    "print('mutated:', mutated)"
   ]
  },
  {
   "cell_type": "markdown",
   "metadata": {
    "pycharm": {
     "name": "#%% md\n"
    }
   },
   "source": [
    "## Real-valued genomes\n",
    "\n",
    "Now we demonstrate the same process using a real-valued representation."
   ]
  },
  {
   "cell_type": "code",
   "execution_count": 6,
   "metadata": {
    "pycharm": {
     "name": "#%%\n"
    }
   },
   "outputs": [
    {
     "name": "stdout",
     "output_type": "stream",
     "text": [
      "0 <function create_segmented_sequence.<locals>.segmented at 0x10e3a5ee0>\n",
      "1 <function create_segmented_sequence.<locals>.segmented at 0x10e3a5300>\n",
      "2 <function create_segmented_sequence.<locals>.segmented at 0x10e3a5a80>\n",
      "3 <function create_segmented_sequence.<locals>.segmented at 0x10e3a6340>\n",
      "4 <function create_segmented_sequence.<locals>.segmented at 0x10e3a6480>\n",
      "5 <function create_segmented_sequence.<locals>.segmented at 0x10e3a65c0>\n"
     ]
    }
   ],
   "source": [
    "# Create five segmented sequences that vary from 1 to 3 segments\n",
    "bounds = ((-5.12,5.12), (-1,1), (-10,10)) # three reals and their respective bounds for sampling\n",
    "seqs = []\n",
    "for i in range(5):\n",
    "    seq = create_segmented_sequence(functools.partial(random.randint, a=1,b=3), \n",
    "                                    create_real_vector(bounds))\n",
    "    seqs.append(seq)\n",
    "\n",
    "# Just for fun, now add a genome that has exactly 5 segments\n",
    "seqs.append(create_segmented_sequence(5, create_real_vector(bounds)))\n",
    "\n",
    "for i, s in enumerate(seqs):\n",
    "    print(i, pformat(s, indent=2))"
   ]
  },
  {
   "cell_type": "markdown",
   "metadata": {
    "pycharm": {
     "name": "#%% md\n"
    }
   },
   "source": [
    "Now we repeat the application of the segmented mutation operator, but this time to real-valued genomes."
   ]
  },
  {
   "cell_type": "code",
   "execution_count": 7,
   "metadata": {
    "pycharm": {
     "name": "#%%\n"
    }
   },
   "outputs": [
    {
     "name": "stdout",
     "output_type": "stream",
     "text": [
      "original: Individual<32dbcc92-461a-4a59-ade2-d987494ec3aa> with fitness None\n",
      "mutated: Individual<32dbcc92-461a-4a59-ade2-d987494ec3aa> with fitness None\n"
     ]
    }
   ],
   "source": [
    "original = Individual(np.array([[0.0,0.0],[1.0,1.0],[-1.0,0.0]]))\n",
    "print('original:', original)\n",
    "mutated = next(apply_mutation(iter([original]),\n",
    "                              mutator=genome_mutate_gaussian(std=1.0, expected_num_mutations=1.5)\n",
    "                             )\n",
    "              )\n",
    "print('mutated:', mutated)"
   ]
  },
  {
   "cell_type": "markdown",
   "metadata": {
    "pycharm": {
     "name": "#%% md\n"
    }
   },
   "source": [
    "# Other pipeline operators\n",
    "\n",
    "Besides the aformentioned `apply_mutation`, segmented representations have other pipeline operators, which are:\n",
    "\n",
    "* `add_segment()`, possibly add a new segment\n",
    "* `remove_segment()`, possibly remove a segment\n",
    "* `copy_segment()`, possibly select and copy an existing segment\n"
   ]
  },
  {
   "cell_type": "code",
   "execution_count": 8,
   "metadata": {
    "pycharm": {
     "name": "#%%\n"
    }
   },
   "outputs": [
    {
     "name": "stdout",
     "output_type": "stream",
     "text": [
      "pop: [Individual<2ce0b1c1-e782-45af-a317-a94285d6019a>([[0, 0], [1, 1]], IdentityDecoder(), None),\n",
      " Individual<17f2663a-1a98-48e4-bd9d-21121aaea898>([[0, 0], [1, 1]], IdentityDecoder(), None),\n",
      " Individual<e1dcf197-51a2-49ab-8e2f-03dcf00d8015>([[0, 0], [1, 1]], IdentityDecoder(), None),\n",
      " Individual<1dc5816a-cb2d-4c99-8f73-332081806c57>([[0, 0], [1, 1]], IdentityDecoder(), None),\n",
      " Individual<8ec48855-3ebe-4fbc-873b-939c812d903c>([[0, 0], [1, 1]], IdentityDecoder(), None)]\n",
      "new_pop: [Individual<5ae7b9e6-0357-4481-a4e4-ee07b7e20358>([[1, 1]], IdentityDecoder(), None),\n",
      " Individual<c45f9416-a4fa-45be-ad46-ccb5000339d4>([[0, 0]], IdentityDecoder(), None),\n",
      " Individual<39e91c07-2a2d-4872-a8a1-56fe7b71138e>([[1, 1]], IdentityDecoder(), None),\n",
      " Individual<b22b7087-d905-4ed5-9bf1-798c2079444b>([[0, 0]], IdentityDecoder(), None),\n",
      " Individual<aa87d303-2b77-41a5-9552-8863d70df9d8>([[0, 0]], IdentityDecoder(), None)]\n"
     ]
    }
   ],
   "source": [
    "# demonstrate pipe by running existing sequence through a number of operators\n",
    "pop = [Individual([[0,0],[1,1]]) for x in range(5)]\n",
    "print('pop:', pformat(pop))\n",
    "new_pop = pipe(pop, \n",
    "               cyclic_selection,\n",
    "               clone,\n",
    "               remove_segment(probability=1.0), \n",
    "               pool(size=len(pop)))\n",
    "print('new_pop:', pformat(new_pop))"
   ]
  },
  {
   "cell_type": "code",
   "execution_count": 9,
   "metadata": {
    "pycharm": {
     "name": "#%%\n"
    }
   },
   "outputs": [
    {
     "name": "stdout",
     "output_type": "stream",
     "text": [
      "pop: [    Individual<03be41de-a40b-45bf-82f5-097c04227d74>([[0, 0], [1, 1]], IdentityDecoder(), None),\n",
      "     Individual<f60beb10-840d-4e9c-a8ad-00a0ae955b40>([[0, 0], [1, 1]], IdentityDecoder(), None),\n",
      "     Individual<4609f196-eecd-498b-a470-1f7e29ffad7c>([[0, 0], [1, 1]], IdentityDecoder(), None),\n",
      "     Individual<4df1ea4a-fb84-40b6-8d96-c05f2fc7ee56>([[0, 0], [1, 1]], IdentityDecoder(), None),\n",
      "     Individual<ddd6ebe2-d648-417b-a2bb-3af7eedc9feb>([[0, 0], [1, 1]], IdentityDecoder(), None)]\n",
      "new_pop: [        Individual<aea77ad9-886a-4965-b024-889456baf046>([[0, 0], [0, 0], [1, 1]], IdentityDecoder(), None),\n",
      "         Individual<d68b4321-dbbe-4482-9bab-ab7200250171>([[0, 0], [1, 1], [1, 1]], IdentityDecoder(), None),\n",
      "         Individual<75540233-4f84-464d-8b57-7e085a34daf2>([[0, 0], [0, 0], [1, 1]], IdentityDecoder(), None),\n",
      "         Individual<d1c6e692-ce7e-4ba1-97c3-bcd598a9c782>([[0, 0], [1, 1], [1, 1]], IdentityDecoder(), None),\n",
      "         Individual<a1cd2799-f813-4a7e-b47e-fafedc8e7903>([[0, 0], [1, 1], [1, 1]], IdentityDecoder(), None)]\n"
     ]
    }
   ],
   "source": [
    "# demonstrate pipe by running existing sequence through a number of operators\n",
    "pop = [Individual([[0,0],[1,1]]) for x in range(5)]\n",
    "print('pop:', pformat(pop, indent=5))\n",
    "new_pop = pipe(pop, \n",
    "               cyclic_selection,\n",
    "               clone,\n",
    "               copy_segment(probability=1.0),\n",
    "               pool(size=len(pop)))\n",
    "print('new_pop:', pformat(new_pop, indent=9))"
   ]
  },
  {
   "cell_type": "code",
   "execution_count": 10,
   "metadata": {
    "pycharm": {
     "name": "#%%\n"
    }
   },
   "outputs": [
    {
     "name": "stdout",
     "output_type": "stream",
     "text": [
      "pop: [    Individual<75229661-8ab3-490e-91be-64f6ebfea6a0>([[0, 0], [1, 1]], IdentityDecoder(), None),\n",
      "     Individual<2abd478f-41fe-40c6-b5f3-d70e41c3500d>([[0, 0], [1, 1]], IdentityDecoder(), None),\n",
      "     Individual<13af2543-f6f9-438c-9cdb-0bd9663bd7e9>([[0, 0], [1, 1]], IdentityDecoder(), None),\n",
      "     Individual<55e84425-5654-4244-8aba-737131bf8ee7>([[0, 0], [1, 1]], IdentityDecoder(), None),\n",
      "     Individual<6b42b394-6202-4e77-ae26-4ff6cff65443>([[0, 0], [1, 1]], IdentityDecoder(), None)]\n",
      "new_pop: [        Individual<08cce79f-4cdf-4cf0-a352-ba92d8dcf88b>([[0, 0], [12345], [1, 1]], IdentityDecoder(), None),\n",
      "         Individual<5d26653b-5e91-4730-95f9-09b5eb8637fa>([[0, 0], [12345], [1, 1]], IdentityDecoder(), None),\n",
      "         Individual<1f9c8c4f-f6e9-4a8b-ae30-82f96ffae896>([[0, 0], [12345], [1, 1]], IdentityDecoder(), None),\n",
      "         Individual<b2974a3b-79d0-4deb-a28f-d48b14c03ace>([[0, 0], [12345], [1, 1]], IdentityDecoder(), None),\n",
      "         Individual<f13a84d9-cb51-4886-933a-c73852cde16c>([[12345], [0, 0], [1, 1]], IdentityDecoder(), None)]\n"
     ]
    }
   ],
   "source": [
    "# lastly, demonstrate add_segment, which generates an entirely new segment\n",
    "test_sequence = [12345]  # just an arbitrary sequence for testing\n",
    "\n",
    "def gen_sequence():\n",
    "    \"\"\" return an arbitrary static test_sequence \"\"\"\n",
    "    return test_sequence\n",
    "\n",
    "pop = [Individual([[0,0],[1,1]]) for x in range(5)]\n",
    "print('pop:', pformat(pop, indent=5))\n",
    "\n",
    "new_pop = pipe(pop, \n",
    "               cyclic_selection,\n",
    "               clone,\n",
    "               add_segment(seq_initializer=gen_sequence, probability=1.0),\n",
    "               pool(size=len(pop)))\n",
    "print('new_pop:', pformat(new_pop, indent=9))"
   ]
  }
 ],
 "metadata": {
  "kernelspec": {
   "display_name": "LEAP_venv",
   "language": "python",
   "name": "leap_venv"
  },
  "language_info": {
   "codemirror_mode": {
    "name": "ipython",
    "version": 3
   },
   "file_extension": ".py",
   "mimetype": "text/x-python",
   "name": "python",
   "nbconvert_exporter": "python",
   "pygments_lexer": "ipython3",
   "version": "3.11.3"
  }
 },
 "nbformat": 4,
 "nbformat_minor": 4
}
