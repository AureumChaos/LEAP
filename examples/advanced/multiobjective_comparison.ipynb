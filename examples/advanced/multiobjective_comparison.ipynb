{
 "cells": [
  {
   "cell_type": "markdown",
   "id": "0d820a35",
   "metadata": {},
   "source": [
    "# Comparison of NSGA-II ranking algorithms\n",
    "\n",
    "The performance of two multi-objective fast ranking algorithms are compared.  The first is the legacy fast rank sorting described in the seminal NSGA-II work by Deb et al.  The second is the Rank-based Non-Dominated Sort described by Bogdan Burlacu.\n",
    "\n",
    "Bogdan Burlacu. 2022. _Rank-based Non-dominated Sorting_. arXiv.\n",
    "      DOI:https://doi.org/10.48550/ARXIV.2203.13654"
   ]
  },
  {
   "cell_type": "code",
   "execution_count": 1,
   "id": "de4707d8",
   "metadata": {},
   "outputs": [],
   "source": [
    "import sys\n",
    "import pandas as pd\n",
    "import numpy as np\n",
    "import matplotlib.pyplot as plt\n",
    "import seaborn as sns\n",
    "import random\n",
    "import time\n",
    "from functools import partial\n",
    "from toolz import curry\n",
    "from itertools import product\n",
    "from tqdm import tqdm\n",
    "from multiprocessing import Pool\n",
    "\n",
    "from leap_ec.representation import Representation\n",
    "from leap_ec.ops import tournament_selection, clone, evaluate, pool, uniform_crossover\n",
    "from leap_ec.real_rep.initializers import create_real_vector\n",
    "from leap_ec.real_rep.ops import mutate_gaussian, apply_hard_bounds\n",
    "from leap_ec.probe import print_individual\n",
    "\n",
    "from leap_ec.multiobjective.nsga2 import generalized_nsga_2\n",
    "from leap_ec.multiobjective.problems import SCHProblem\n",
    "from leap_ec.multiobjective.ops import fast_nondominated_sort, rank_ordinal_sort\n",
    "\n",
    "plt.rcParams['figure.figsize'] = [6.0, 3.0]\n",
    "plt.rcParams['figure.dpi'] = 200\n",
    "\n",
    "SEED=42"
   ]
  },
  {
   "cell_type": "code",
   "execution_count": 2,
   "id": "3f040eb8",
   "metadata": {},
   "outputs": [],
   "source": [
    "sch_problem = SCHProblem() \n",
    "sch_representation = Representation(initialize=create_real_vector(bounds=[(-10, 10)]))"
   ]
  },
  {
   "cell_type": "markdown",
   "id": "b65d2482",
   "metadata": {},
   "source": [
    "Time each of the three different ranking functions on the original NSGA-II population size and number of generations for a base level comparison."
   ]
  },
  {
   "cell_type": "code",
   "execution_count": 4,
   "id": "f306ab7a",
   "metadata": {},
   "outputs": [
    {
     "name": "stdout",
     "output_type": "stream",
     "text": [
      "Numpy Optimized Rank Ordinal:\t3.9092936515808105\n",
      "Fast Nondominated:\t\t171.83111095428467\n",
      "Speedup:\t\t\t43.954516152758416\n"
     ]
    }
   ],
   "source": [
    "POP_SIZE=100\n",
    "MAX_GENERATIONS=250\n",
    "\n",
    "pipeline = [\n",
    "    tournament_selection,\n",
    "    clone,\n",
    "    uniform_crossover(p_swap=0.2),\n",
    "    mutate_gaussian(std=0.5, expected_num_mutations=1),\n",
    "    evaluate,\n",
    "    pool(size=POP_SIZE)\n",
    "]\n",
    "\n",
    "t = time.time()\n",
    "np.random.seed(SEED)\n",
    "random.seed(SEED)\n",
    "ros_pop = np.array(generalized_nsga_2(\n",
    "    max_generations=MAX_GENERATIONS, \n",
    "    pop_size=POP_SIZE, \n",
    "    problem=sch_problem, \n",
    "    representation=sch_representation,\n",
    "    pipeline=pipeline,\n",
    "    rank_func=rank_ordinal_sort\n",
    "))\n",
    "rank_ordinal_t = time.time() - t\n",
    "print(f\"Numpy Optimized Rank Ordinal:\\t{rank_ordinal_t:3}\")\n",
    "\n",
    "t = time.time()\n",
    "np.random.seed(SEED)\n",
    "random.seed(SEED)\n",
    "fnd_pop = np.array(generalized_nsga_2(\n",
    "    max_generations=MAX_GENERATIONS, \n",
    "    pop_size=POP_SIZE, \n",
    "    problem=sch_problem, \n",
    "    representation=sch_representation,\n",
    "    pipeline=pipeline,\n",
    "    rank_func=fast_nondominated_sort\n",
    "))\n",
    "fast_nondominated_t = time.time() - t\n",
    "print(f\"Fast Nondominated:\\t\\t{fast_nondominated_t:3}\")\n",
    "print(f\"Speedup:\\t\\t\\t{fast_nondominated_t/rank_ordinal_t:3}\")\n"
   ]
  },
  {
   "cell_type": "markdown",
   "id": "4bbc4fdc",
   "metadata": {},
   "source": [
    "Compare their outputs with increasing strictness: firstly producing the same set of fitnesses, then the same ranking, and lastly the same ordering."
   ]
  },
  {
   "cell_type": "code",
   "execution_count": 4,
   "id": "66f0683d",
   "metadata": {},
   "outputs": [],
   "source": [
    "ros_fitnesses = np.array([ind.fitness for ind in ros_pop])\n",
    "fnd_fitnesses = np.array([ind.fitness for ind in fnd_pop])\n",
    "\n",
    "ros_lex_pop = ros_pop[np.lexsort(ros_fitnesses.T, axis=0)]\n",
    "fnd_lex_pop = fnd_pop[np.lexsort(fnd_fitnesses.T, axis=0)]\n",
    "\n",
    "ros_lex_fitness = np.array([ind.fitness for ind in ros_lex_pop])\n",
    "fnd_lex_fitness = np.array([ind.fitness for ind in fnd_lex_pop])\n",
    "\n",
    "# Check that the lexicographically sorted fitnesses are identical\n",
    "# I.e. check that regardless of original ordering, the same fitnesses were produced\n",
    "np.testing.assert_array_equal(ros_lex_fitness, fnd_lex_fitness)\n",
    "\n",
    "ros_ranks = np.array([ind.rank for ind in ros_lex_pop])\n",
    "fnd_ranks = np.array([ind.rank for ind in fnd_lex_pop])\n",
    "\n",
    "# Check that the final populations were ranked identically\n",
    "np.testing.assert_array_equal(ros_ranks, fnd_ranks)\n",
    "\n",
    "# Check that the original fitnesses are exactly the same order\n",
    "np.testing.assert_array_equal(ros_fitnesses, fnd_fitnesses)\n"
   ]
  },
  {
   "cell_type": "markdown",
   "id": "85710a94",
   "metadata": {},
   "source": [
    "Compute a table of values for `rank_ordinal_sort` vs `fast_nondominated_sort` on the same random state."
   ]
  },
  {
   "cell_type": "code",
   "execution_count": 5,
   "id": "a6eda859",
   "metadata": {
    "scrolled": true
   },
   "outputs": [
    {
     "name": "stderr",
     "output_type": "stream",
     "text": [
      "  0%|          | 0/80 [24:05<?, ?it/s]\n"
     ]
    },
    {
     "ename": "KeyboardInterrupt",
     "evalue": "",
     "output_type": "error",
     "traceback": [
      "\u001b[0;31m---------------------------------------------------------------------------\u001b[0m",
      "\u001b[0;31mIndexError\u001b[0m                                Traceback (most recent call last)",
      "\u001b[0;32m~/miniconda3/envs/leap/lib/python3.8/multiprocessing/pool.py\u001b[0m in \u001b[0;36mnext\u001b[0;34m(self, timeout)\u001b[0m\n\u001b[1;32m    850\u001b[0m             \u001b[0;32mtry\u001b[0m\u001b[0;34m:\u001b[0m\u001b[0;34m\u001b[0m\u001b[0;34m\u001b[0m\u001b[0m\n\u001b[0;32m--> 851\u001b[0;31m                 \u001b[0mitem\u001b[0m \u001b[0;34m=\u001b[0m \u001b[0mself\u001b[0m\u001b[0;34m.\u001b[0m\u001b[0m_items\u001b[0m\u001b[0;34m.\u001b[0m\u001b[0mpopleft\u001b[0m\u001b[0;34m(\u001b[0m\u001b[0;34m)\u001b[0m\u001b[0;34m\u001b[0m\u001b[0;34m\u001b[0m\u001b[0m\n\u001b[0m\u001b[1;32m    852\u001b[0m             \u001b[0;32mexcept\u001b[0m \u001b[0mIndexError\u001b[0m\u001b[0;34m:\u001b[0m\u001b[0;34m\u001b[0m\u001b[0;34m\u001b[0m\u001b[0m\n",
      "\u001b[0;31mIndexError\u001b[0m: pop from an empty deque",
      "\nDuring handling of the above exception, another exception occurred:\n",
      "\u001b[0;31mKeyboardInterrupt\u001b[0m                         Traceback (most recent call last)",
      "\u001b[0;32m<ipython-input-5-22e3b89eb0a7>\u001b[0m in \u001b[0;36m<module>\u001b[0;34m\u001b[0m\n\u001b[1;32m     48\u001b[0m \u001b[0;34m\u001b[0m\u001b[0m\n\u001b[1;32m     49\u001b[0m \u001b[0;32mwith\u001b[0m \u001b[0mPool\u001b[0m\u001b[0;34m(\u001b[0m\u001b[0mPOOL_SIZE\u001b[0m\u001b[0;34m)\u001b[0m \u001b[0;32mas\u001b[0m \u001b[0mproc_pool\u001b[0m\u001b[0;34m:\u001b[0m\u001b[0;34m\u001b[0m\u001b[0;34m\u001b[0m\u001b[0m\n\u001b[0;32m---> 50\u001b[0;31m     bench_df[\"time\"] = list(tqdm(proc_pool.imap(\n\u001b[0m\u001b[1;32m     51\u001b[0m         \u001b[0mbenchmark_wrapper\u001b[0m\u001b[0;34m,\u001b[0m\u001b[0;34m\u001b[0m\u001b[0;34m\u001b[0m\u001b[0m\n\u001b[1;32m     52\u001b[0m         \u001b[0;34m(\u001b[0m\u001b[0mtuple\u001b[0m\u001b[0;34m(\u001b[0m\u001b[0mrow\u001b[0m\u001b[0;34m)\u001b[0m \u001b[0;32mfor\u001b[0m \u001b[0m_\u001b[0m\u001b[0;34m,\u001b[0m \u001b[0mrow\u001b[0m \u001b[0;32min\u001b[0m \u001b[0mbench_df\u001b[0m\u001b[0;34m.\u001b[0m\u001b[0miterrows\u001b[0m\u001b[0;34m(\u001b[0m\u001b[0;34m)\u001b[0m\u001b[0;34m)\u001b[0m\u001b[0;34m\u001b[0m\u001b[0;34m\u001b[0m\u001b[0m\n",
      "\u001b[0;32m~/miniconda3/envs/leap/lib/python3.8/site-packages/tqdm/std.py\u001b[0m in \u001b[0;36m__iter__\u001b[0;34m(self)\u001b[0m\n\u001b[1;32m   1176\u001b[0m \u001b[0;34m\u001b[0m\u001b[0m\n\u001b[1;32m   1177\u001b[0m         \u001b[0;32mtry\u001b[0m\u001b[0;34m:\u001b[0m\u001b[0;34m\u001b[0m\u001b[0;34m\u001b[0m\u001b[0m\n\u001b[0;32m-> 1178\u001b[0;31m             \u001b[0;32mfor\u001b[0m \u001b[0mobj\u001b[0m \u001b[0;32min\u001b[0m \u001b[0miterable\u001b[0m\u001b[0;34m:\u001b[0m\u001b[0;34m\u001b[0m\u001b[0;34m\u001b[0m\u001b[0m\n\u001b[0m\u001b[1;32m   1179\u001b[0m                 \u001b[0;32myield\u001b[0m \u001b[0mobj\u001b[0m\u001b[0;34m\u001b[0m\u001b[0;34m\u001b[0m\u001b[0m\n\u001b[1;32m   1180\u001b[0m                 \u001b[0;31m# Update and possibly print the progressbar.\u001b[0m\u001b[0;34m\u001b[0m\u001b[0;34m\u001b[0m\u001b[0;34m\u001b[0m\u001b[0m\n",
      "\u001b[0;32m~/miniconda3/envs/leap/lib/python3.8/multiprocessing/pool.py\u001b[0m in \u001b[0;36mnext\u001b[0;34m(self, timeout)\u001b[0m\n\u001b[1;32m    854\u001b[0m                     \u001b[0mself\u001b[0m\u001b[0;34m.\u001b[0m\u001b[0m_pool\u001b[0m \u001b[0;34m=\u001b[0m \u001b[0;32mNone\u001b[0m\u001b[0;34m\u001b[0m\u001b[0;34m\u001b[0m\u001b[0m\n\u001b[1;32m    855\u001b[0m                     \u001b[0;32mraise\u001b[0m \u001b[0mStopIteration\u001b[0m \u001b[0;32mfrom\u001b[0m \u001b[0;32mNone\u001b[0m\u001b[0;34m\u001b[0m\u001b[0;34m\u001b[0m\u001b[0m\n\u001b[0;32m--> 856\u001b[0;31m                 \u001b[0mself\u001b[0m\u001b[0;34m.\u001b[0m\u001b[0m_cond\u001b[0m\u001b[0;34m.\u001b[0m\u001b[0mwait\u001b[0m\u001b[0;34m(\u001b[0m\u001b[0mtimeout\u001b[0m\u001b[0;34m)\u001b[0m\u001b[0;34m\u001b[0m\u001b[0;34m\u001b[0m\u001b[0m\n\u001b[0m\u001b[1;32m    857\u001b[0m                 \u001b[0;32mtry\u001b[0m\u001b[0;34m:\u001b[0m\u001b[0;34m\u001b[0m\u001b[0;34m\u001b[0m\u001b[0m\n\u001b[1;32m    858\u001b[0m                     \u001b[0mitem\u001b[0m \u001b[0;34m=\u001b[0m \u001b[0mself\u001b[0m\u001b[0;34m.\u001b[0m\u001b[0m_items\u001b[0m\u001b[0;34m.\u001b[0m\u001b[0mpopleft\u001b[0m\u001b[0;34m(\u001b[0m\u001b[0;34m)\u001b[0m\u001b[0;34m\u001b[0m\u001b[0;34m\u001b[0m\u001b[0m\n",
      "\u001b[0;32m~/miniconda3/envs/leap/lib/python3.8/threading.py\u001b[0m in \u001b[0;36mwait\u001b[0;34m(self, timeout)\u001b[0m\n\u001b[1;32m    300\u001b[0m         \u001b[0;32mtry\u001b[0m\u001b[0;34m:\u001b[0m    \u001b[0;31m# restore state no matter what (e.g., KeyboardInterrupt)\u001b[0m\u001b[0;34m\u001b[0m\u001b[0;34m\u001b[0m\u001b[0m\n\u001b[1;32m    301\u001b[0m             \u001b[0;32mif\u001b[0m \u001b[0mtimeout\u001b[0m \u001b[0;32mis\u001b[0m \u001b[0;32mNone\u001b[0m\u001b[0;34m:\u001b[0m\u001b[0;34m\u001b[0m\u001b[0;34m\u001b[0m\u001b[0m\n\u001b[0;32m--> 302\u001b[0;31m                 \u001b[0mwaiter\u001b[0m\u001b[0;34m.\u001b[0m\u001b[0macquire\u001b[0m\u001b[0;34m(\u001b[0m\u001b[0;34m)\u001b[0m\u001b[0;34m\u001b[0m\u001b[0;34m\u001b[0m\u001b[0m\n\u001b[0m\u001b[1;32m    303\u001b[0m                 \u001b[0mgotit\u001b[0m \u001b[0;34m=\u001b[0m \u001b[0;32mTrue\u001b[0m\u001b[0;34m\u001b[0m\u001b[0;34m\u001b[0m\u001b[0m\n\u001b[1;32m    304\u001b[0m             \u001b[0;32melse\u001b[0m\u001b[0;34m:\u001b[0m\u001b[0;34m\u001b[0m\u001b[0;34m\u001b[0m\u001b[0m\n",
      "\u001b[0;31mKeyboardInterrupt\u001b[0m: "
     ]
    }
   ],
   "source": [
    "MAX_GENERATIONS=5\n",
    "ITERATIONS=5\n",
    "POOL_SIZE=5\n",
    "\n",
    "bench_df = pd.DataFrame(\n",
    "    {\n",
    "        \"pop_size\": pop_size,\n",
    "        \"algorithm\": algorithm,\n",
    "        \"iteration\": iteration,\n",
    "    } for algorithm, pop_size, iteration in product(\n",
    "        (\"rank_ordinal\", \"fast_nondominated\"),\n",
    "        np.logspace(0, 3.5, 8, dtype=np.int32),\n",
    "        range(ITERATIONS)\n",
    "    )\n",
    ")\n",
    "\n",
    "def benchmark_wrapper(row):\n",
    "    return benchmark_nsga2(*row)\n",
    "\n",
    "def benchmark_nsga2(pop_size, algorithm, iteration, *_):\n",
    "    generator = np.random.MT19937(SEED)\n",
    "    np.random.set_state(generator.jumped(iteration).state)\n",
    "    random.seed(np.random.sample())\n",
    "\n",
    "    pipeline = [\n",
    "        tournament_selection,\n",
    "        clone,\n",
    "        uniform_crossover(p_swap=0.2),\n",
    "        mutate_gaussian(std=0.5, expected_num_mutations=1),\n",
    "        evaluate,\n",
    "        pool(size=pop_size)\n",
    "    ]\n",
    "\n",
    "    t = time.time()\n",
    "    generalized_nsga_2(\n",
    "        max_generations=MAX_GENERATIONS, \n",
    "        pop_size=pop_size, \n",
    "        problem=sch_problem, \n",
    "        representation=sch_representation,\n",
    "        pipeline=pipeline,\n",
    "        rank_func={\n",
    "            \"fast_nondominated\": fast_nondominated_sort,\n",
    "            \"rank_ordinal\": rank_ordinal_sort\n",
    "        }[algorithm]\n",
    "    )\n",
    "\n",
    "    return time.time() - t\n",
    "\n",
    "with Pool(POOL_SIZE) as proc_pool:\n",
    "    bench_df[\"time\"] = list(tqdm(proc_pool.imap(\n",
    "        benchmark_wrapper,\n",
    "        (tuple(row) for _, row in bench_df.iterrows())\n",
    "    ), total=len(bench_df.index)))\n",
    "bench_df"
   ]
  },
  {
   "cell_type": "markdown",
   "id": "cc2d0530",
   "metadata": {},
   "source": [
    "Graph of the time complexity for the two algorithms. Note that there is error bars around the lines, the error is just so small it isn't visible."
   ]
  },
  {
   "cell_type": "code",
   "execution_count": null,
   "id": "46bec5b0",
   "metadata": {},
   "outputs": [],
   "source": [
    "fig, ax = plt.subplots()\n",
    "sns.lineplot(bench_df, x=\"pop_size\", y=\"time\", hue=\"algorithm\", ax=ax)\n",
    "ax.set_xscale(\"log\")\n",
    "ax.set_yscale(\"log\")\n",
    "ax.set_title(\"Time vs Pop Size\")\n",
    "ax.grid()"
   ]
  }
 ],
 "metadata": {
  "kernelspec": {
   "display_name": "Python 3",
   "language": "python",
   "name": "python3"
  },
  "language_info": {
   "codemirror_mode": {
    "name": "ipython",
    "version": 3
   },
   "file_extension": ".py",
   "mimetype": "text/x-python",
   "name": "python",
   "nbconvert_exporter": "python",
   "pygments_lexer": "ipython3",
   "version": "3.8.10"
  },
  "vscode": {
   "interpreter": {
    "hash": "916dbcbb3f70747c44a77c7bcd40155683ae19c65e1c03b4aa3499c5328201f1"
   }
  }
 },
 "nbformat": 4,
 "nbformat_minor": 5
}
