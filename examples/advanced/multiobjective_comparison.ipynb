{
 "cells": [
  {
   "attachments": {},
   "cell_type": "markdown",
   "id": "0d820a35",
   "metadata": {},
   "source": [
    "# Comparison of NSGA-II ranking algorithms\n",
    "\n",
    "The performance of two multi-objective fast ranking algorithms are compared.  The first is the legacy fast rank sorting described in the seminal NSGA-II work by Deb et al.  The second is the Rank-based Non-Dominated Sort described by Bogdan Burlacu.\n",
    "\n",
    "Bogdan Burlacu. 2022. _Rank-based Non-dominated Sorting_. arXiv.\n",
    "      DOI:https://doi.org/10.48550/ARXIV.2203.13654"
   ]
  },
  {
   "cell_type": "code",
   "execution_count": 1,
   "id": "de4707d8",
   "metadata": {},
   "outputs": [],
   "source": [
    "import sys\n",
    "import pandas as pd\n",
    "import numpy as np\n",
    "import matplotlib.pyplot as plt\n",
    "import seaborn as sns\n",
    "import random\n",
    "import time\n",
    "import os\n",
    "from functools import partial\n",
    "from toolz import curry\n",
    "from itertools import product\n",
    "from tqdm import tqdm\n",
    "from multiprocessing import Pool\n",
    "#from multiprocessing.pool import ThreadPool as Pool\n",
    "\n",
    "from leap_ec.representation import Representation\n",
    "from leap_ec.ops import tournament_selection, clone, evaluate, pool, UniformCrossover\n",
    "from leap_ec.real_rep.initializers import create_real_vector\n",
    "from leap_ec.real_rep.ops import mutate_gaussian, apply_hard_bounds\n",
    "from leap_ec.probe import print_individual\n",
    "\n",
    "from leap_ec.multiobjective.nsga2 import generalized_nsga_2\n",
    "from leap_ec.multiobjective.problems import SCHProblem\n",
    "from leap_ec.multiobjective.ops import fast_nondominated_sort, rank_ordinal_sort\n",
    "\n",
    "import multiobjective_defs\n",
    "\n",
    "plt.rcParams['figure.figsize'] = [6.0, 3.0]\n",
    "plt.rcParams['figure.dpi'] = 200\n",
    "\n"
   ]
  },
  {
   "cell_type": "code",
   "execution_count": 2,
   "id": "3f040eb8",
   "metadata": {},
   "outputs": [],
   "source": [
    "sch_problem = SCHProblem()\n",
    "sch_representation = Representation(initialize=create_real_vector(bounds=[(-10, 10)]))"
   ]
  },
  {
   "attachments": {},
   "cell_type": "markdown",
   "id": "b65d2482",
   "metadata": {},
   "source": [
    "Time each of the three different ranking functions on the original NSGA-II population size and number of generations for a base level comparison."
   ]
  },
  {
   "cell_type": "code",
   "execution_count": 3,
   "id": "f306ab7a",
   "metadata": {},
   "outputs": [
    {
     "name": "stdout",
     "output_type": "stream",
     "text": [
      "Numpy Optimized Rank Ordinal (secs):\t0.84\n",
      "Fast Nondominated (secs):\t\t17.6\n",
      "Speedup:\t\t\t\t21.0\n"
     ]
    }
   ],
   "source": [
    "POP_SIZE=50\n",
    "MAX_GENERATIONS=100\n",
    "\n",
    "pipeline = [\n",
    "    tournament_selection,\n",
    "    clone,\n",
    "    UniformCrossover(p_swap=0.2),\n",
    "    mutate_gaussian(std=0.5, expected_num_mutations=1),\n",
    "    evaluate,\n",
    "    pool(size=POP_SIZE)\n",
    "]\n",
    "\n",
    "t = time.time()\n",
    "np.random.seed(multiobjective_defs.SEED)\n",
    "random.seed(multiobjective_defs.SEED)\n",
    "ros_pop = np.array(generalized_nsga_2(\n",
    "    max_generations=MAX_GENERATIONS,\n",
    "    pop_size=POP_SIZE,\n",
    "    problem=sch_problem,\n",
    "    representation=sch_representation,\n",
    "    pipeline=pipeline,\n",
    "    rank_func=rank_ordinal_sort\n",
    "))\n",
    "rank_ordinal_t = time.time() - t\n",
    "print(f\"Numpy Optimized Rank Ordinal (secs):\\t{rank_ordinal_t:.3}\")\n",
    "\n",
    "t = time.time()\n",
    "np.random.seed(multiobjective_defs.SEED)\n",
    "random.seed(multiobjective_defs.SEED)\n",
    "fnd_pop = np.array(generalized_nsga_2(\n",
    "    max_generations=MAX_GENERATIONS,\n",
    "    pop_size=POP_SIZE,\n",
    "    problem=sch_problem,\n",
    "    representation=sch_representation,\n",
    "    pipeline=pipeline,\n",
    "    rank_func=fast_nondominated_sort\n",
    "))\n",
    "fast_nondominated_t = time.time() - t\n",
    "print(f\"Fast Nondominated (secs):\\t\\t{fast_nondominated_t:.3}\")\n",
    "print(f\"Speedup:\\t\\t\\t\\t{fast_nondominated_t/rank_ordinal_t:.3}\")\n"
   ]
  },
  {
   "attachments": {},
   "cell_type": "markdown",
   "id": "4bbc4fdc",
   "metadata": {},
   "source": [
    "Compare their outputs with increasing strictness: firstly producing the same set of fitnesses, then the same ranking, and lastly the same ordering."
   ]
  },
  {
   "cell_type": "code",
   "execution_count": 4,
   "id": "66f0683d",
   "metadata": {},
   "outputs": [],
   "source": [
    "ros_fitnesses = np.array([ind.fitness for ind in ros_pop])\n",
    "fnd_fitnesses = np.array([ind.fitness for ind in fnd_pop])\n",
    "\n",
    "ros_lex_pop = ros_pop[np.lexsort(ros_fitnesses.T, axis=0)]\n",
    "fnd_lex_pop = fnd_pop[np.lexsort(fnd_fitnesses.T, axis=0)]\n",
    "\n",
    "ros_lex_fitness = np.array([ind.fitness for ind in ros_lex_pop])\n",
    "fnd_lex_fitness = np.array([ind.fitness for ind in fnd_lex_pop])\n",
    "\n",
    "# Check that the lexicographically sorted fitnesses are identical\n",
    "# I.e. check that regardless of original ordering, the same fitnesses were produced\n",
    "np.testing.assert_array_equal(ros_lex_fitness, fnd_lex_fitness)\n",
    "\n",
    "ros_ranks = np.array([ind.rank for ind in ros_lex_pop])\n",
    "fnd_ranks = np.array([ind.rank for ind in fnd_lex_pop])\n",
    "\n",
    "# Check that the final populations were ranked identically\n",
    "np.testing.assert_array_equal(ros_ranks, fnd_ranks)\n",
    "\n",
    "# Check that the original fitnesses are exactly the same order\n",
    "np.testing.assert_array_equal(ros_fitnesses, fnd_fitnesses)\n"
   ]
  },
  {
   "attachments": {},
   "cell_type": "markdown",
   "id": "85710a94",
   "metadata": {},
   "source": [
    "Compute a table of values for `rank_ordinal_sort` vs `fast_nondominated_sort` on the same random state."
   ]
  },
  {
   "cell_type": "code",
   "execution_count": 5,
   "id": "a6eda859",
   "metadata": {
    "scrolled": true
   },
   "outputs": [
    {
     "name": "stderr",
     "output_type": "stream",
     "text": [
      "100%|██████████| 70/70 [01:40<00:00,  1.43s/it]\n"
     ]
    }
   ],
   "source": [
    "ITERATIONS=5\n",
    "POOL_SIZE=os.cpu_count() * 4\n",
    "\n",
    "# We capture the results of the experiment for population size and algorithm with a number\n",
    "# of iterations (runs).\n",
    "bench_df = pd.DataFrame(\n",
    "    {\n",
    "        \"pop_size\": pop_size,\n",
    "        \"algorithm\": algorithm,\n",
    "        \"iteration\": iteration,\n",
    "    } for algorithm, pop_size, iteration in product(\n",
    "        (\"rank_ordinal\", \"fast_nondominated\"),\n",
    "        np.logspace(1, 2.5, 7, dtype=np.int32),\n",
    "        range(ITERATIONS)\n",
    "    )\n",
    ")\n",
    "\n",
    "\n",
    "with Pool(processes=POOL_SIZE) as proc_pool:\n",
    "    bench_df[\"time\"] = list(tqdm(proc_pool.imap(\n",
    "        multiobjective_defs.benchmark_wrapper,\n",
    "        (tuple(row) for _, row in bench_df.iterrows())\n",
    "    ), total=len(bench_df.index)))\n"
   ]
  },
  {
   "cell_type": "code",
   "execution_count": 8,
   "id": "b8437905",
   "metadata": {
    "scrolled": true
   },
   "outputs": [
    {
     "data": {
      "text/html": [
       "<div>\n",
       "<style scoped>\n",
       "    .dataframe tbody tr th:only-of-type {\n",
       "        vertical-align: middle;\n",
       "    }\n",
       "\n",
       "    .dataframe tbody tr th {\n",
       "        vertical-align: top;\n",
       "    }\n",
       "\n",
       "    .dataframe thead th {\n",
       "        text-align: right;\n",
       "    }\n",
       "</style>\n",
       "<table border=\"1\" class=\"dataframe\">\n",
       "  <thead>\n",
       "    <tr style=\"text-align: right;\">\n",
       "      <th></th>\n",
       "      <th>pop_size</th>\n",
       "      <th>algorithm</th>\n",
       "      <th>iteration</th>\n",
       "      <th>time</th>\n",
       "    </tr>\n",
       "  </thead>\n",
       "  <tbody>\n",
       "    <tr>\n",
       "      <th>0</th>\n",
       "      <td>10</td>\n",
       "      <td>rank_ordinal</td>\n",
       "      <td>0</td>\n",
       "      <td>0.137427</td>\n",
       "    </tr>\n",
       "    <tr>\n",
       "      <th>1</th>\n",
       "      <td>10</td>\n",
       "      <td>rank_ordinal</td>\n",
       "      <td>1</td>\n",
       "      <td>0.145594</td>\n",
       "    </tr>\n",
       "    <tr>\n",
       "      <th>2</th>\n",
       "      <td>10</td>\n",
       "      <td>rank_ordinal</td>\n",
       "      <td>2</td>\n",
       "      <td>0.143056</td>\n",
       "    </tr>\n",
       "    <tr>\n",
       "      <th>3</th>\n",
       "      <td>10</td>\n",
       "      <td>rank_ordinal</td>\n",
       "      <td>3</td>\n",
       "      <td>0.152685</td>\n",
       "    </tr>\n",
       "    <tr>\n",
       "      <th>4</th>\n",
       "      <td>10</td>\n",
       "      <td>rank_ordinal</td>\n",
       "      <td>4</td>\n",
       "      <td>0.162217</td>\n",
       "    </tr>\n",
       "    <tr>\n",
       "      <th>...</th>\n",
       "      <td>...</td>\n",
       "      <td>...</td>\n",
       "      <td>...</td>\n",
       "      <td>...</td>\n",
       "    </tr>\n",
       "    <tr>\n",
       "      <th>65</th>\n",
       "      <td>316</td>\n",
       "      <td>fast_nondominated</td>\n",
       "      <td>0</td>\n",
       "      <td>89.301010</td>\n",
       "    </tr>\n",
       "    <tr>\n",
       "      <th>66</th>\n",
       "      <td>316</td>\n",
       "      <td>fast_nondominated</td>\n",
       "      <td>1</td>\n",
       "      <td>89.608233</td>\n",
       "    </tr>\n",
       "    <tr>\n",
       "      <th>67</th>\n",
       "      <td>316</td>\n",
       "      <td>fast_nondominated</td>\n",
       "      <td>2</td>\n",
       "      <td>91.871696</td>\n",
       "    </tr>\n",
       "    <tr>\n",
       "      <th>68</th>\n",
       "      <td>316</td>\n",
       "      <td>fast_nondominated</td>\n",
       "      <td>3</td>\n",
       "      <td>90.079013</td>\n",
       "    </tr>\n",
       "    <tr>\n",
       "      <th>69</th>\n",
       "      <td>316</td>\n",
       "      <td>fast_nondominated</td>\n",
       "      <td>4</td>\n",
       "      <td>88.746938</td>\n",
       "    </tr>\n",
       "  </tbody>\n",
       "</table>\n",
       "<p>70 rows × 4 columns</p>\n",
       "</div>"
      ],
      "text/plain": [
       "    pop_size          algorithm  iteration       time\n",
       "0         10       rank_ordinal          0   0.137427\n",
       "1         10       rank_ordinal          1   0.145594\n",
       "2         10       rank_ordinal          2   0.143056\n",
       "3         10       rank_ordinal          3   0.152685\n",
       "4         10       rank_ordinal          4   0.162217\n",
       "..       ...                ...        ...        ...\n",
       "65       316  fast_nondominated          0  89.301010\n",
       "66       316  fast_nondominated          1  89.608233\n",
       "67       316  fast_nondominated          2  91.871696\n",
       "68       316  fast_nondominated          3  90.079013\n",
       "69       316  fast_nondominated          4  88.746938\n",
       "\n",
       "[70 rows x 4 columns]"
      ]
     },
     "execution_count": 8,
     "metadata": {},
     "output_type": "execute_result"
    }
   ],
   "source": [
    "bench_df"
   ]
  },
  {
   "cell_type": "code",
   "execution_count": 11,
   "id": "39c0ccbb",
   "metadata": {},
   "outputs": [
    {
     "name": "stdout",
     "output_type": "stream",
     "text": [
      "<class 'pandas.core.frame.DataFrame'>\n",
      "RangeIndex: 70 entries, 0 to 69\n",
      "Data columns (total 4 columns):\n",
      " #   Column     Non-Null Count  Dtype  \n",
      "---  ------     --------------  -----  \n",
      " 0   pop_size   70 non-null     int64  \n",
      " 1   algorithm  70 non-null     object \n",
      " 2   iteration  70 non-null     int64  \n",
      " 3   time       70 non-null     float64\n",
      "dtypes: float64(1), int64(2), object(1)\n",
      "memory usage: 2.3+ KB\n"
     ]
    }
   ],
   "source": [
    "bench_df.info()"
   ]
  },
  {
   "attachments": {},
   "cell_type": "markdown",
   "id": "cc2d0530",
   "metadata": {},
   "source": [
    "Graph of the time complexity for the two algorithms. Note that there are error bars around the lines, the error is just so small it isn't visible."
   ]
  },
  {
   "cell_type": "code",
   "execution_count": 13,
   "id": "adbd7795",
   "metadata": {},
   "outputs": [
    {
     "data": {
      "image/png": "[encoded data removed]",
      "text/plain": [
       "<Figure size 1200x600 with 1 Axes>"
      ]
     },
     "metadata": {
      "needs_background": "light"
     },
     "output_type": "display_data"
    }
   ],
   "source": [
    "figure = sns.lineplot(data=bench_df, x='pop_size', y='time', hue='algorithm')\n"
   ]
  }
 ],
 "metadata": {
  "kernelspec": {
   "display_name": "Python 3",
   "language": "python",
   "name": "python3"
  },
  "language_info": {
   "codemirror_mode": {
    "name": "ipython",
    "version": 3
   },
   "file_extension": ".py",
   "mimetype": "text/x-python",
   "name": "python",
   "nbconvert_exporter": "python",
   "pygments_lexer": "ipython3",
   "version": "3.8.10"
  },
  "vscode": {
   "interpreter": {
    "hash": "916dbcbb3f70747c44a77c7bcd40155683ae19c65e1c03b4aa3499c5328201f1"
   }
  }
 },
 "nbformat": 4,
 "nbformat_minor": 5
}
