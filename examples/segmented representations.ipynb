{
 "cells": [
  {
   "cell_type": "markdown",
   "metadata": {},
   "source": [
    "# Segmented Representations\n",
    "\n",
    "One common representation in evolutionary algorithms (EA) is that of a \"segmented representation.\"  That is, each individual is comprised of a sequence of segments, which are themselves fixed-length sequences, and are usually binary, but needn't be.  Each segment represents a salient feature, such as a rule in a Pitt Approach system, or a convolutional layer and its hyperparameters, as is the case for Multi-node Evolutionary Neural Networks for Deep Learning (MENNDL).\n",
    "\n",
    "There are two broad categories for these systems: those that have a fixed number of such segments, as is the case currently for MENNDL, and a dynamic number of segments, as is the case for Pitt Approach classifiers.\n",
    "\n",
    "In this notebook we look at LEAP support for segmented representations, starting with initializers and decoders, and then looking at the mutation pipeline operator.  We then plug all that into a simple EA example.\n"
   ]
  },
  {
   "cell_type": "code",
   "execution_count": 1,
   "metadata": {},
   "outputs": [],
   "source": [
    "import sys\n",
    "import random\n",
    "import functools\n",
    "\n",
    "from leap_ec.binary_rep.initializers import create_binary_sequence\n",
    "from leap_ec.segmented_rep.initializers import create_segmented_sequence"
   ]
  },
  {
   "cell_type": "code",
   "execution_count": 2,
   "metadata": {},
   "outputs": [],
   "source": [
    "# Create a genome of four segments of five binary digits.\n",
    "seg = create_segmented_sequence(4, create_binary_sequence(5))\n",
    "print(seg)"
   ]
  },
  {
   "cell_type": "code",
   "execution_count": 7,
   "metadata": {},
   "outputs": [
    {
     "name": "stdout",
     "output_type": "stream",
     "text": [
      "0 [[1, 0, 1, 0, 0], [1, 0, 1, 1, 1], [0, 1, 1, 1, 1], [0, 1, 0, 1, 1], [1, 0, 1, 0, 1]]\n",
      "1 [[0, 0, 0, 0, 1], [1, 1, 1, 0, 1]]\n",
      "2 [[0, 0, 1, 1, 1], [0, 0, 0, 0, 0]]\n",
      "3 [[1, 1, 0, 1, 1], [0, 1, 1, 1, 0], [1, 0, 1, 0, 0]]\n",
      "4 [[1, 1, 1, 0, 0], [0, 1, 1, 0, 0], [0, 0, 0, 0, 1]]\n"
     ]
    }
   ],
   "source": [
    "# Now create five genomes of varying length by passing in a function for `length` that provides an\n",
    "# integer drawn from a distribution.\n",
    "for i in range(5):\n",
    "    seq = create_segmented_sequence(functools.partial(random.randint, a=1,b=5), create_binary_sequence(5))\n",
    "    print(i, seq)"
   ]
  },
  {
   "cell_type": "code",
   "execution_count": null,
   "metadata": {},
   "outputs": [],
   "source": []
  }
 ],
 "metadata": {
  "kernelspec": {
   "display_name": "LEAP_venv",
   "language": "python",
   "name": "leap_venv"
  },
  "language_info": {
   "codemirror_mode": {
    "name": "ipython",
    "version": 3
   },
   "file_extension": ".py",
   "mimetype": "text/x-python",
   "name": "python",
   "nbconvert_exporter": "python",
   "pygments_lexer": "ipython3",
   "version": "3.7.3"
  }
 },
 "nbformat": 4,
 "nbformat_minor": 4
}
