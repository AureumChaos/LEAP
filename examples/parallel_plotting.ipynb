{
 "cells": [
  {
   "cell_type": "markdown",
   "metadata": {},
   "source": [
    "# Plotting asynchronous steady-state EAs"
   ]
  },
  {
   "cell_type": "markdown",
   "metadata": {},
   "source": [
    "This shows how to plot a run of an asynchronous steady-stae evolutionary algorithm (ASAE)."
   ]
  },
  {
   "cell_type": "code",
   "execution_count": 1,
   "metadata": {},
   "outputs": [],
   "source": [
    "%matplotlib notebook\n",
    "import matplotlib.pyplot as plt"
   ]
  },
  {
   "cell_type": "code",
   "execution_count": 2,
   "metadata": {},
   "outputs": [],
   "source": [
    "import sys\n",
    "import itertools\n",
    "import uuid\n",
    "\n",
    "from leap import core\n",
    "from leap import ops\n",
    "from leap import binary_problems\n",
    "from leap import real_problems\n",
    "\n",
    "from leap.parallel.parallel import Parallel"
   ]
  },
  {
   "cell_type": "code",
   "execution_count": 3,
   "metadata": {},
   "outputs": [],
   "source": [
    "from dask.distributed import Client, LocalCluster"
   ]
  },
  {
   "cell_type": "code",
   "execution_count": 4,
   "metadata": {},
   "outputs": [],
   "source": [
    "class MyIndividual(core.Individual):\n",
    "    \"\"\"\n",
    "        Adding `is_viable`.\n",
    "    \"\"\"\n",
    "    birth = itertools.count()\n",
    "    \n",
    "    def __init__(self, genome, decoder=None, problem=None):\n",
    "        super().__init__(genome, decoder, problem)\n",
    "\n",
    "        # Used to uniquely identify this individual\n",
    "        self.uuid = uuid.uuid4()\n",
    "        \n",
    "        # Track the current birth number\n",
    "        self.birth = next(MyIndividual.birth)\n",
    "\n",
    "    def __repr__(self):\n",
    "        return \" \".join([str(self.uuid), str(self.birth), str(self.fitness),\n",
    "                         \"\".join([str(x) for x in self.genome])])\n",
    "\n",
    "    def is_viable(self):\n",
    "        \"\"\" This is used by Parallel to ensure that we are considering \"viable\"\n",
    "        individuals.\n",
    "\n",
    "        That is, an individual may have been returned from a worker as *not*\n",
    "        viable because its evaluation was interrupted by, say, doing a check-\n",
    "        point. In which case, we do not want to insert it into the pool.\n",
    "        \"\"\"\n",
    "        return True"
   ]
  },
  {
   "cell_type": "code",
   "execution_count": 5,
   "metadata": {},
   "outputs": [],
   "source": [
    "cluster = LocalCluster() # set up to run on local machine\n",
    "client = Client(cluster)"
   ]
  },
  {
   "cell_type": "code",
   "execution_count": 6,
   "metadata": {},
   "outputs": [],
   "source": [
    "my_parallel = Parallel(client, max_births=100, pool_size=10)"
   ]
  },
  {
   "cell_type": "code",
   "execution_count": 7,
   "metadata": {},
   "outputs": [],
   "source": [
    "final_pop = my_parallel.do(MyIndividual, \n",
    "                           initializer=core.create_binary_sequence(11), \n",
    "                           init_pop_size=10, \n",
    "                           problem=binary_problems.MaxOnes(),\n",
    "                           decoder=core.IdentityDecoder())"
   ]
  },
  {
   "cell_type": "code",
   "execution_count": 8,
   "metadata": {},
   "outputs": [
    {
     "data": {
      "text/plain": [
       "[4f2fd76d-03ee-408c-b058-db04aba589d6 51 10 10111111111,\n",
       " 00a2aef4-62ed-4187-b487-04be7a37b40f 55 10 10111111111,\n",
       " d8b51270-2a1a-4880-8d94-fe8e2355c1c0 36 11 11111111111,\n",
       " fa655e14-6214-40ec-9e50-13f092c0d6f6 20 10 10111111111,\n",
       " 02ff6164-f9e7-4d45-a8a0-c2640e1f6031 24 10 10111111111,\n",
       " a2da69fd-41e2-44a2-8149-f9243e8315d4 39 11 11111111111,\n",
       " 86ebb520-e465-4853-82e8-8dff92ce788b 48 11 11111111111,\n",
       " 0e05a9a4-f7c5-480b-86ce-e033d4b373fb 2 10 10111111111,\n",
       " 2bd5c88c-55f7-4532-a7cb-d68479f506a6 30 10 11011111111,\n",
       " 92b300ef-87ec-4db6-bfcf-9dfa1d8048b0 56 10 11111101111]"
      ]
     },
     "execution_count": 8,
     "metadata": {},
     "output_type": "execute_result"
    }
   ],
   "source": [
    "final_pop"
   ]
  }
 ],
 "metadata": {
  "kernelspec": {
   "display_name": "Python 3",
   "language": "python",
   "name": "python3"
  },
  "language_info": {
   "codemirror_mode": {
    "name": "ipython",
    "version": 3
   },
   "file_extension": ".py",
   "mimetype": "text/x-python",
   "name": "python",
   "nbconvert_exporter": "python",
   "pygments_lexer": "ipython3",
   "version": "3.6.7"
  }
 },
 "nbformat": 4,
 "nbformat_minor": 2
}
