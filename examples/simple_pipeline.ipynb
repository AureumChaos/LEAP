{
 "cells": [
  {
   "cell_type": "markdown",
   "metadata": {},
   "source": [
    "# Simple pipeline example\n",
    "\n",
    "This is intended to exercise the most basic of LEAP features, such as cloning, mutation, and selection.\n"
   ]
  },
  {
   "cell_type": "code",
   "execution_count": 1,
   "metadata": {},
   "outputs": [],
   "source": [
    "import sys, os\n",
    "import toolz\n",
    "\n",
    "from leap_ec.individual import Individual\n",
    "from leap_ec.binary_rep.ops import mutate_bitflip\n",
    "import leap_ec.ops as ops\n"
   ]
  },
  {
   "cell_type": "markdown",
   "metadata": {},
   "source": [
    "Let's create a simple population of three individuals that have a binary representation of two bits each.  Moreover, let's set their bits to be all zeroes."
   ]
  },
  {
   "cell_type": "code",
   "execution_count": 2,
   "metadata": {},
   "outputs": [
    {
     "data": {
      "text/plain": [
       "[Individual([0, 0], None, None),\n",
       " Individual([0, 0], None, None),\n",
       " Individual([0, 0], None, None)]"
      ]
     },
     "execution_count": 2,
     "metadata": {},
     "output_type": "execute_result"
    }
   ],
   "source": [
    "pop = []\n",
    "\n",
    "pop.append(Individual([0, 0]))\n",
    "pop.append(Individual([0, 0]))\n",
    "pop.append(Individual([0, 0]))\n",
    "\n",
    "pop"
   ]
  },
  {
   "cell_type": "markdown",
   "metadata": {},
   "source": [
    "Let's just do a simple mutation pipeline *without* cloning to demonstrate that mutating individuals will affect the original population."
   ]
  },
  {
   "cell_type": "code",
   "execution_count": 3,
   "metadata": {},
   "outputs": [],
   "source": [
    "new_pop = toolz.pipe(pop,\n",
    "                     ops.naive_cyclic_selection,\n",
    "                     mutate_bitflip(expected_num_mutations=2),\n",
    "                     ops.pool(size=3))"
   ]
  },
  {
   "cell_type": "code",
   "execution_count": 4,
   "metadata": {},
   "outputs": [
    {
     "data": {
      "text/plain": [
       "[Individual([1, 1], None, None),\n",
       " Individual([1, 1], None, None),\n",
       " Individual([1, 1], None, None)]"
      ]
     },
     "execution_count": 4,
     "metadata": {},
     "output_type": "execute_result"
    }
   ],
   "source": [
    "new_pop"
   ]
  },
  {
   "cell_type": "markdown",
   "metadata": {},
   "source": [
    "Note that all the bits have flipped, which confirms that the mutation operator was applied successfully.\n",
    "\n",
    "However, because we didn't clone the individuals, the *original* population was altered.  What's interesting is that it appears that not all the individuals were, but more than likely the iterator just moved ahead and over-wrote the last two individuals again."
   ]
  },
  {
   "cell_type": "code",
   "execution_count": 5,
   "metadata": {},
   "outputs": [
    {
     "data": {
      "text/plain": [
       "[Individual([1, 1], None, None),\n",
       " Individual([1, 1], None, None),\n",
       " Individual([1, 1], None, None)]"
      ]
     },
     "execution_count": 5,
     "metadata": {},
     "output_type": "execute_result"
    }
   ],
   "source": [
    "pop"
   ]
  },
  {
   "cell_type": "markdown",
   "metadata": {},
   "source": [
    "Let's try this exercise again, but this time add a clone operator."
   ]
  },
  {
   "cell_type": "code",
   "execution_count": 6,
   "metadata": {},
   "outputs": [
    {
     "data": {
      "text/plain": [
       "[Individual([0, 0], None, None),\n",
       " Individual([0, 0], None, None),\n",
       " Individual([0, 0], None, None)]"
      ]
     },
     "execution_count": 6,
     "metadata": {},
     "output_type": "execute_result"
    }
   ],
   "source": [
    "pop = []\n",
    "\n",
    "pop.append(Individual([0, 0]))\n",
    "pop.append(Individual([0, 0]))\n",
    "pop.append(Individual([0, 0]))\n",
    "\n",
    "pop"
   ]
  },
  {
   "cell_type": "code",
   "execution_count": 7,
   "metadata": {},
   "outputs": [],
   "source": [
    "new_pop= toolz.pipe(pop,\n",
    "                       ops.naive_cyclic_selection,\n",
    "                       ops.clone,\n",
    "                       mutate_bitflip(expected_num_mutations=2),\n",
    "                       ops.pool(size=3))"
   ]
  },
  {
   "cell_type": "code",
   "execution_count": 8,
   "metadata": {},
   "outputs": [
    {
     "name": "stdout",
     "output_type": "stream",
     "text": [
      "[Individual([1, 1], None, None), Individual([1, 1], None, None), Individual([1, 1], None, None)]\n"
     ]
    }
   ],
   "source": [
    "print(new_pop)"
   ]
  },
  {
   "cell_type": "markdown",
   "metadata": {},
   "source": [
    "And now we can show that `pop` is untouched, unlike in the previous example."
   ]
  },
  {
   "cell_type": "code",
   "execution_count": 9,
   "metadata": {},
   "outputs": [
    {
     "data": {
      "text/plain": [
       "[Individual([0, 0], None, None),\n",
       " Individual([0, 0], None, None),\n",
       " Individual([0, 0], None, None)]"
      ]
     },
     "execution_count": 9,
     "metadata": {},
     "output_type": "execute_result"
    }
   ],
   "source": [
    "pop"
   ]
  }
 ],
 "metadata": {
  "kernelspec": {
   "display_name": "LEAP_venv",
   "language": "python",
   "name": "leap_venv"
  },
  "language_info": {
   "codemirror_mode": {
    "name": "ipython",
    "version": 3
   },
   "file_extension": ".py",
   "mimetype": "text/x-python",
   "name": "python",
   "nbconvert_exporter": "python",
   "pygments_lexer": "ipython3",
   "version": "3.9.1"
  }
 },
 "nbformat": 4,
 "nbformat_minor": 2
}
