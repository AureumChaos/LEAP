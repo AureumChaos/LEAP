{
 "cells": [
  {
   "cell_type": "markdown",
   "metadata": {},
   "source": [
    "# Asynchronous parallel evaluation\n",
    "\n",
    "This demonstrates an asynchronous evaluation model, or as is known more formally, an asynchronous steady-state evolutionary algorithm (ASEA).  We will demonstrate two approaches.  The first shows a detailed implementation suitable for practitioners that like to have full control of their implementations.  The second shows a more accessible approach using a single, monolithic function that implements a full ASEA."
   ]
  },
  {
   "cell_type": "code",
   "execution_count": 1,
   "metadata": {},
   "outputs": [],
   "source": [
    "import multiprocessing.popen_spawn_posix  # Python 3.9 workaround for Dask.  See https://github.com/dask/distributed/issues/4168\n",
    "from distributed import Client, LocalCluster\n",
    "import toolz\n",
    "\n",
    "from leap_ec import Representation, context\n",
    "from leap_ec import ops\n",
    "from leap_ec.decoder import IdentityDecoder\n",
    "\n",
    "from leap_ec.binary_rep.problems import MaxOnes\n",
    "from leap_ec.binary_rep.initializers import create_binary_sequence\n",
    "from leap_ec.binary_rep.ops import mutate_bitflip\n",
    "\n",
    "from leap_ec.distrib import asynchronous\n",
    "from leap_ec.distrib import evaluate\n",
    "from leap_ec.distrib.individual import DistributedIndividual"
   ]
  },
  {
   "cell_type": "markdown",
   "metadata": {},
   "source": [
    "First, let's set up `dask` to run on local pretend \"cluster\" on your machine."
   ]
  },
  {
   "cell_type": "code",
   "execution_count": 2,
   "metadata": {},
   "outputs": [],
   "source": [
    "cluster = LocalCluster()\n",
    "client = Client(cluster)"
   ]
  },
  {
   "cell_type": "markdown",
   "metadata": {},
   "source": [
    "Now create an initial random population of five individuals that use a binary representation of four bits for solving the MAX ONES problem."
   ]
  },
  {
   "cell_type": "code",
   "execution_count": 3,
   "metadata": {},
   "outputs": [],
   "source": [
    "parents = DistributedIndividual.create_population(5,\n",
    "                                            initialize=create_binary_sequence(4),\n",
    "                                            decoder=IdentityDecoder(), problem=MaxOnes())"
   ]
  },
  {
   "cell_type": "markdown",
   "metadata": {},
   "source": [
    "To get things started, we send the entire randomly generated initial population to dask to start getting evaluated asynchronously.  We do this by calling `asynchronous.eval_population()`, which returns a distributed dask `as_completed` iterator.  Essentially running `next()` on that iterator will iterate to the next completed individual."
   ]
  },
  {
   "cell_type": "code",
   "execution_count": 4,
   "metadata": {},
   "outputs": [],
   "source": [
    "    as_completed_iter = asynchronous.eval_population(parents, client=client)"
   ]
  },
  {
   "cell_type": "markdown",
   "metadata": {},
   "source": [
    "We create a \"bag\" that will contain the evaluated individuals.  This bag will initially be an empty list."
   ]
  },
  {
   "cell_type": "code",
   "execution_count": 5,
   "metadata": {},
   "outputs": [],
   "source": [
    "bag = []"
   ]
  },
  {
   "cell_type": "markdown",
   "metadata": {},
   "source": [
    "Then we fall into a loop where we insert individuals into a bag with an arbitrary capacity of three.  That means the first three individuals will just be inserted into the bag.  However, the fourth and fifth individual will have to fight it out to be inserted.  We chose the greedy insertion function that means new individuals fight it out with the current *weakest* individual in the bag; there is an alternative function, `tournament_insert_into_pop()` that just randomly selects an opponent from the current bag.\n",
    "\n",
    "To make things more interesting, we will create up to four *new* offspring from the bag. In later, more complex examples, we'll implement a proper births budget to limit the total number of evaluated individuals."
   ]
  },
  {
   "cell_type": "code",
   "execution_count": 6,
   "metadata": {},
   "outputs": [
    {
     "name": "stdout",
     "output_type": "stream",
     "text": [
      "0 , evaluated:  [1, 0, 1, 1] 3\n",
      "created offspring: [1, 0, 1, 1]\n",
      "1 , evaluated:  [1, 1, 0, 1] 3\n",
      "created offspring: [1, 0, 1, 0]\n",
      "2 , evaluated:  [1, 0, 1, 0] 2\n",
      "created offspring: [1, 0, 1, 1]\n",
      "3 , evaluated:  [1, 0, 0, 0] 1\n",
      "created offspring: [0, 1, 0, 0]\n",
      "4 , evaluated:  [1, 0, 1, 0] 2\n",
      "5 , evaluated:  [1, 0, 1, 1] 3\n",
      "6 , evaluated:  [1, 0, 1, 0] 2\n",
      "7 , evaluated:  [1, 0, 1, 1] 3\n",
      "8 , evaluated:  [0, 1, 0, 0] 1\n"
     ]
    }
   ],
   "source": [
    "num_offspring = 0\n",
    "\n",
    "for i, evaluated_future in enumerate(as_completed_iter):\n",
    "\n",
    "    evaluated = evaluated_future.result()\n",
    "\n",
    "    print(i, ', evaluated: ', evaluated.genome, evaluated.fitness)\n",
    "\n",
    "    asynchronous.greedy_insert_into_pop(evaluated, bag, 3)\n",
    "\n",
    "    if num_offspring < 4:\n",
    "        # Only create offspring if we have the budget for one\n",
    "        offspring = toolz.pipe(bag,\n",
    "                               ops.random_selection,\n",
    "                               ops.clone,\n",
    "                               mutate_bitflip(expected_num_mutations=1),\n",
    "                               ops.pool(size=1))\n",
    "        print('created offspring:', offspring[0].genome)\n",
    "\n",
    "        # Now asyncrhonously submit to dask\n",
    "        as_completed_iter.add(client.submit(evaluate.evaluate(context=context), offspring[0]))\n",
    "\n",
    "        num_offspring += 1"
   ]
  },
  {
   "cell_type": "markdown",
   "metadata": {},
   "source": [
    "Now `bag` should contain the final population of the seven total individuals cooked down to the three best.  Note that there are nine total \"evaluated\" lines that correspond to the original five randomly generated individuals plus the four new ones we added inside the loop."
   ]
  },
  {
   "cell_type": "code",
   "execution_count": 7,
   "metadata": {},
   "outputs": [
    {
     "name": "stdout",
     "output_type": "stream",
     "text": [
      "0 [1, 0, 1, 1] 3\n",
      "1 [1, 1, 0, 1] 3\n",
      "2 [1, 0, 1, 1] 3\n"
     ]
    },
    {
     "data": {
      "text/plain": [
       "[None, None, None]"
      ]
     },
     "execution_count": 7,
     "metadata": {},
     "output_type": "execute_result"
    }
   ],
   "source": [
    "[print(i, ind.genome, ind.fitness) for i, ind in enumerate(bag)]"
   ]
  },
  {
   "cell_type": "markdown",
   "metadata": {},
   "source": [
    "## Using convenience function `steady_state`\n",
    "\n",
    "However, if you are comfortable with relinquishing control over implementation details, you might find it easier to use `leap.distributed.steady_state`.  Under the hood it essentially does everything above, plus a few other things, such as allowing you to decide if non-viable individuals count towards the birth budget, or not.  You can also specify the strategy for inserting new individuals into the bag.\n",
    "\n",
    "### A note about non-viable individuals\n",
    "\n",
    "A non-viable individual is one that didn't get a chance to get evaluated because, say, an exception was thrown during the evaluation process.  For example, if you were tuning deep-learner (DL) hyper-parameters, it may be that a given DL configuration an individual represents doesn't make sense such that it caused pytorch or tensorflow to throw an exception.  That individual would be \"non-viable\" because the corresponding DL hyper-parameter set didn't even get a chance to be trained.\n",
    "\n",
    "Essentially, any exception thrown during an individual's evaluation will cause `leap.distributed` to deem that individual to be non-viable.  It will see the `is_viable` to `False`, set the fitness to `math.nan`, and set the attribute `exception` to the thrown exception.  This should hopefully make it easier to track such individuals and to provide a diagnostic to how and when individuals are marked non-viable during runs.  `leap.core.context['leap']['distributed']['non_viable']` is incremented to keep a running total of non-viable individuals during a run; you will need to manually reset this counter between runs.\n",
    "\n",
    "Both `leap.distributed.synchronous` and `leap.distributed.asynchronous` use `leap.distributed.evaluate` to implement this functionality.\n",
    "\n",
    "### `steady_state()` example\n",
    "\n",
    "The following example uses `steady_state()` to do what we did above, though we go with the default inserter, `tournament_insert_into_pop()` that is less greedy that what we used earlier.  Note that we didn't specify the `individual_cls` argument since the default already uses `core.Individual`."
   ]
  },
  {
   "cell_type": "code",
   "execution_count": 8,
   "metadata": {
    "pycharm": {
     "name": "#%%\n"
    }
   },
   "outputs": [],
   "source": [
    "final_pop = asynchronous.steady_state(client, births=9, init_pop_size=5, pop_size=3,\n",
    "                                      representation=Representation(\n",
    "                                                  decoder=IdentityDecoder(),\n",
    "                                                  initialize=create_binary_sequence(4),\n",
    "                                                  individual_cls=DistributedIndividual),\n",
    "                                      problem=MaxOnes(),\n",
    "                                      offspring_pipeline=[ops.random_selection,\n",
    "                                                ops.clone,\n",
    "                                                mutate_bitflip(expected_num_mutations=1),\n",
    "                                                ops.pool(size=1)])"
   ]
  },
  {
   "cell_type": "code",
   "execution_count": 9,
   "metadata": {
    "pycharm": {
     "name": "#%%\n"
    }
   },
   "outputs": [
    {
     "name": "stdout",
     "output_type": "stream",
     "text": [
      "0 [1, 0, 0, 1] 2\n",
      "1 [1, 0, 0, 1] 2\n",
      "2 [1, 0, 0, 1] 2\n"
     ]
    },
    {
     "data": {
      "text/plain": [
       "[None, None, None]"
      ]
     },
     "execution_count": 9,
     "metadata": {},
     "output_type": "execute_result"
    }
   ],
   "source": [
    "[print(i, ind.genome, ind.fitness) for i, ind in enumerate(final_pop)]"
   ]
  },
  {
   "cell_type": "code",
   "execution_count": 10,
   "metadata": {
    "pycharm": {
     "name": "#%%\n"
    }
   },
   "outputs": [
    {
     "data": {
      "text/plain": [
       "{'leap': {'distrib': {'non_viable': 0}, 'births': 9}}"
      ]
     },
     "execution_count": 10,
     "metadata": {},
     "output_type": "execute_result"
    }
   ],
   "source": [
    "context"
   ]
  },
  {
   "cell_type": "code",
   "execution_count": 11,
   "metadata": {},
   "outputs": [],
   "source": [
    "final_pop = asynchronous.steady_state(client, births=9, init_pop_size=5, pop_size=3,\n",
    "                                      representation=Representation(\n",
    "                                                  decoder=IdentityDecoder(),\n",
    "                                                  initialize=create_binary_sequence(4),\n",
    "                                                  individual_cls=DistributedIndividual),\n",
    "                                      problem=MaxOnes(),\n",
    "                                      offspring_pipeline=[ops.random_selection,\n",
    "                                                ops.clone,\n",
    "                                                mutate_bitflip(expected_num_mutations=1),\n",
    "                                                ops.pool(size=1)])"
   ]
  },
  {
   "cell_type": "code",
   "execution_count": 12,
   "metadata": {},
   "outputs": [
    {
     "name": "stdout",
     "output_type": "stream",
     "text": [
      "0 [1, 1, 0, 1] 3\n",
      "1 [1, 1, 1, 0] 3\n",
      "2 [1, 1, 0, 1] 3\n"
     ]
    },
    {
     "data": {
      "text/plain": [
       "[None, None, None]"
      ]
     },
     "execution_count": 12,
     "metadata": {},
     "output_type": "execute_result"
    }
   ],
   "source": [
    "[print(i, ind.genome, ind.fitness) for i, ind in enumerate(final_pop)]"
   ]
  },
  {
   "cell_type": "code",
   "execution_count": 13,
   "metadata": {},
   "outputs": [
    {
     "data": {
      "text/plain": [
       "{'leap': {'distrib': {'non_viable': 0}, 'births': 9}}"
      ]
     },
     "execution_count": 13,
     "metadata": {},
     "output_type": "execute_result"
    }
   ],
   "source": [
    "context"
   ]
  },
  {
   "cell_type": "code",
   "execution_count": null,
   "metadata": {},
   "outputs": [],
   "source": []
  }
 ],
 "metadata": {
  "kernelspec": {
   "display_name": "LEAP_venv",
   "language": "python",
   "name": "leap_venv"
  },
  "language_info": {
   "codemirror_mode": {
    "name": "ipython",
    "version": 3
   },
   "file_extension": ".py",
   "mimetype": "text/x-python",
   "name": "python",
   "nbconvert_exporter": "python",
   "pygments_lexer": "ipython3",
   "version": "3.9.5"
  }
 },
 "nbformat": 4,
 "nbformat_minor": 2
}
