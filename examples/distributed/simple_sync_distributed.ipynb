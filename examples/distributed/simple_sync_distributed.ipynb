{
 "cells": [
  {
   "cell_type": "markdown",
   "source": [
    "# Simple synchronous parallel evaluation\n",
    "\n",
    "This demonstrates a very simple synchronous evaluation model, which is essentially a map/reduce approach to concurrently evaluating individuals.  This lends itself naturally to a by-generation implementation, which we show here."
   ],
   "metadata": {}
  },
  {
   "cell_type": "code",
   "execution_count": 1,
   "source": [
    "import sys\n",
    "from distributed import Client, LocalCluster\n",
    "import toolz\n",
    "\n",
    "from leap_ec.distrib.individual import DistributedIndividual\n",
    "from leap_ec.decoder import IdentityDecoder\n",
    "\n",
    "import leap_ec.ops as ops\n",
    "\n",
    "from leap_ec.binary_rep.problems import MaxOnes\n",
    "from leap_ec.binary_rep.initializers import create_binary_sequence\n",
    "from leap_ec.binary_rep.ops import mutate_bitflip\n",
    "\n",
    "from leap_ec import util\n",
    "from leap_ec.distrib import synchronous"
   ],
   "outputs": [],
   "metadata": {}
  },
  {
   "cell_type": "markdown",
   "source": [
    "First, let's set up `dask` to run on local pretend \"cluster\" on your machine."
   ],
   "metadata": {}
  },
  {
   "cell_type": "code",
   "execution_count": 2,
   "source": [
    "cluster = LocalCluster()\n",
    "client = Client(cluster)"
   ],
   "outputs": [],
   "metadata": {}
  },
  {
   "cell_type": "markdown",
   "source": [
    "Now create an initial random population of five individuals that use a binary representation of four bits for solving the MAX ONES problem."
   ],
   "metadata": {}
  },
  {
   "cell_type": "code",
   "execution_count": 3,
   "source": [
    "parents = DistributedIndividual.create_population(5,\n",
    "                                            initialize=create_binary_sequence(4),\n",
    "                                            decoder=IdentityDecoder(), problem=MaxOnes())"
   ],
   "outputs": [],
   "metadata": {}
  },
  {
   "cell_type": "markdown",
   "source": [
    "However, we need to evaluate this initial population *before* we fall into the by-generation loop since we select parents based on their fitness, and that implies that they've already been evaluated.  But, since we want to use a sychronous, concurrent evaluation mechanism throughout this exsmple, we will use `sync.eval_population()`"
   ],
   "metadata": {}
  },
  {
   "cell_type": "code",
   "execution_count": 4,
   "source": [
    "parents = synchronous.eval_population(parents, client=client)"
   ],
   "outputs": [],
   "metadata": {}
  },
  {
   "cell_type": "markdown",
   "source": [
    "Now show that the initial population has, indeed, been evaluated by all the dask workers."
   ],
   "metadata": {}
  },
  {
   "cell_type": "code",
   "execution_count": 5,
   "source": [
    "[print(x.genome, x.fitness) for x in parents]"
   ],
   "outputs": [
    {
     "output_type": "stream",
     "name": "stdout",
     "text": [
      "[0, 0, 1, 1] 2\n",
      "[1, 0, 1, 0] 2\n",
      "[1, 0, 0, 0] 1\n",
      "[1, 1, 1, 1] 4\n",
      "[0, 1, 0, 0] 1\n"
     ]
    },
    {
     "output_type": "execute_result",
     "data": {
      "text/plain": [
       "[None, None, None, None, None]"
      ]
     },
     "metadata": {},
     "execution_count": 5
    }
   ],
   "metadata": {}
  },
  {
   "cell_type": "markdown",
   "source": [
    "Now we're ready to run for five generations.  For each generation we'll again concurrently evaluate all the offspring before proceeding to the next generation."
   ],
   "metadata": {}
  },
  {
   "cell_type": "code",
   "execution_count": 6,
   "source": [
    "for current_generation in range(5):\n",
    "    offspring = toolz.pipe(parents,\n",
    "                         ops.tournament_selection,\n",
    "                         ops.clone,\n",
    "                         mutate_bitflip(expected_num_mutations=1),\n",
    "                         ops.uniform_crossover,\n",
    "                         synchronous.eval_pool(client=client, size=len(parents)))\n",
    "\n",
    "    print('generation:', current_generation)\n",
    "    [print(x.genome, x.fitness) for x in offspring]\n",
    "\n",
    "    parents = offspring"
   ],
   "outputs": [
    {
     "output_type": "stream",
     "name": "stdout",
     "text": [
      "generation: 0\n",
      "[1, 1, 1, 1] 4\n",
      "[1, 1, 1, 0] 3\n",
      "[0, 1, 0, 1] 2\n",
      "[1, 0, 0, 1] 2\n",
      "[1, 1, 1, 0] 3\n",
      "generation: 1\n",
      "[0, 1, 0, 1] 2\n",
      "[1, 0, 1, 1] 3\n",
      "[1, 1, 0, 1] 3\n",
      "[0, 1, 0, 1] 2\n",
      "[1, 0, 1, 0] 2\n",
      "generation: 2\n",
      "[1, 0, 1, 1] 3\n",
      "[0, 0, 0, 1] 1\n",
      "[0, 0, 0, 0] 0\n",
      "[0, 1, 0, 0] 1\n",
      "[0, 1, 0, 1] 2\n",
      "generation: 3\n",
      "[0, 0, 0, 1] 1\n",
      "[0, 0, 1, 0] 1\n",
      "[0, 1, 0, 0] 1\n",
      "[1, 1, 1, 0] 3\n",
      "[1, 1, 0, 1] 3\n",
      "generation: 4\n",
      "[1, 1, 1, 1] 4\n",
      "[1, 1, 0, 0] 2\n",
      "[1, 1, 0, 1] 3\n",
      "[0, 0, 0, 0] 0\n",
      "[1, 0, 0, 1] 2\n"
     ]
    }
   ],
   "metadata": {}
  },
  {
   "cell_type": "code",
   "execution_count": 7,
   "source": [
    "[print(x.genome, x.fitness) for x in parents]\n"
   ],
   "outputs": [
    {
     "output_type": "stream",
     "name": "stdout",
     "text": [
      "[1, 1, 1, 1] 4\n",
      "[1, 1, 0, 0] 2\n",
      "[1, 1, 0, 1] 3\n",
      "[0, 0, 0, 0] 0\n",
      "[1, 0, 0, 1] 2\n"
     ]
    },
    {
     "output_type": "execute_result",
     "data": {
      "text/plain": [
       "[None, None, None, None, None]"
      ]
     },
     "metadata": {},
     "execution_count": 7
    }
   ],
   "metadata": {}
  }
 ],
 "metadata": {
  "kernelspec": {
   "display_name": "LEAP_venv",
   "language": "python",
   "name": "leap_venv"
  },
  "language_info": {
   "codemirror_mode": {
    "name": "ipython",
    "version": 3
   },
   "file_extension": ".py",
   "mimetype": "text/x-python",
   "name": "python",
   "nbconvert_exporter": "python",
   "pygments_lexer": "ipython3",
   "version": "3.7.3"
  }
 },
 "nbformat": 4,
 "nbformat_minor": 2
}
