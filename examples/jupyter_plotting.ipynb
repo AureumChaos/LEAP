{
 "cells": [
  {
   "cell_type": "markdown",
   "metadata": {},
   "source": [
    "# LEAP Plotting in Jupyter\n",
    "\n",
    "Easy access to visualization makes for a smooth algorithm development cycle. LEAP offers components to assist with plotting algorithms and problems with `matplotlib` and Jupyter."
   ]
  },
  {
   "cell_type": "markdown",
   "metadata": {},
   "source": [
    "The key to live animation in Jupyter is to use the `%matplotlib notebook` magic:"
   ]
  },
  {
   "cell_type": "code",
   "execution_count": 1,
   "metadata": {},
   "outputs": [],
   "source": [
    "%matplotlib notebook\n",
    "import matplotlib.pyplot as plt"
   ]
  },
  {
   "cell_type": "markdown",
   "metadata": {},
   "source": [
    "If you use `%matplotlib inline` instead, you'll end up with a static image."
   ]
  },
  {
   "cell_type": "markdown",
   "metadata": {},
   "source": [
    "## Live BSF Curves"
   ]
  },
  {
   "cell_type": "markdown",
   "metadata": {},
   "source": [
    "We usually visualize things in LEAP the same way we measure anything: with a **probe operator**.\n",
    "\n",
    "When `PopulationPlotProbe` is inserted into an operator pipeline, it captures the whole population at each generation and plots a statistic from it.  By default, it measures the **best-of-generation fitness**.\n",
    "\n",
    "Next we'll create the probe operator.  It will automatically set up a figure and prepare to plot to it.  The probe will automatically scale the axes to ensure that the entire curve stays within view, but here we'llmanually set the initial `ylim` bounds to add more space:"
   ]
  },
  {
   "cell_type": "code",
   "execution_count": 2,
   "metadata": {
    "scrolled": false
   },
   "outputs": [
    {
     "ename": "ModuleNotFoundError",
     "evalue": "No module named 'leap_ec'",
     "output_type": "error",
     "traceback": [
      "\u001b[0;31m---------------------------------------------------------------------------\u001b[0m",
      "\u001b[0;31mModuleNotFoundError\u001b[0m                       Traceback (most recent call last)",
      "\u001b[0;32m<ipython-input-2-92dd8df9edb9>\u001b[0m in \u001b[0;36m<module>\u001b[0;34m\u001b[0m\n\u001b[0;32m----> 1\u001b[0;31m \u001b[0;32mfrom\u001b[0m \u001b[0mleap_ec\u001b[0m \u001b[0;32mimport\u001b[0m \u001b[0mcore\u001b[0m\u001b[0;34m\u001b[0m\u001b[0;34m\u001b[0m\u001b[0m\n\u001b[0m\u001b[1;32m      2\u001b[0m \u001b[0;32mfrom\u001b[0m \u001b[0mleap_ec\u001b[0m\u001b[0;34m.\u001b[0m\u001b[0mprobe\u001b[0m \u001b[0;32mimport\u001b[0m \u001b[0mPopulationPlotProbe\u001b[0m\u001b[0;34m\u001b[0m\u001b[0;34m\u001b[0m\u001b[0m\n\u001b[1;32m      3\u001b[0m \u001b[0;34m\u001b[0m\u001b[0m\n\u001b[1;32m      4\u001b[0m \u001b[0;31m# The probe needs access to a context object so that it can read the global generation counter\u001b[0m\u001b[0;34m\u001b[0m\u001b[0;34m\u001b[0m\u001b[0;34m\u001b[0m\u001b[0m\n\u001b[1;32m      5\u001b[0m \u001b[0mplot_probe\u001b[0m \u001b[0;34m=\u001b[0m \u001b[0mPopulationPlotProbe\u001b[0m\u001b[0;34m(\u001b[0m\u001b[0mcore\u001b[0m\u001b[0;34m.\u001b[0m\u001b[0mcontext\u001b[0m\u001b[0;34m,\u001b[0m \u001b[0mylim\u001b[0m\u001b[0;34m=\u001b[0m\u001b[0;34m(\u001b[0m\u001b[0;36m0\u001b[0m\u001b[0;34m,\u001b[0m \u001b[0;36m70\u001b[0m\u001b[0;34m)\u001b[0m\u001b[0;34m)\u001b[0m\u001b[0;34m\u001b[0m\u001b[0;34m\u001b[0m\u001b[0m\n",
      "\u001b[0;31mModuleNotFoundError\u001b[0m: No module named 'leap_ec'"
     ]
    }
   ],
   "source": [
    "from leap_ec import core\n",
    "from leap_ec.probe import PopulationPlotProbe\n",
    "\n",
    "# The probe needs access to a context object so that it can read the global generation counter\n",
    "plot_probe = PopulationPlotProbe(core.context, ylim=(0, 70))"
   ]
  },
  {
   "cell_type": "markdown",
   "metadata": {},
   "source": [
    "Not much is happening yet.  We've created the probe and attached it to a figure—but it **still needs an algorithm!**\n",
    "\n",
    "Let's run a simple generational, real-valued EA to solve the `Spheroid` function.  We want the population to pass through the probe at each iteration, so that it can collect data for the y-coordinate.  We achieve this by inserting it at the end of the operator pipeline:\n",
    " \n",
    " ```Python\n",
    " pipeline=[\n",
    "           ...,\n",
    "           ops.pool(size=pop_size),\n",
    "           plot_probe\n",
    "       ]\n",
    " ```\n",
    "\n",
    "We put the probe right after `ops.pool` because the probe needs to receive the **population** all at once, instead of of one individual at a time (`ops.pool` takes a stream of generated individuals and makes a population from it)."
   ]
  },
  {
   "cell_type": "code",
   "execution_count": null,
   "metadata": {
    "scrolled": false
   },
   "outputs": [],
   "source": [
    "from leap_ec.algorithm import generational_ea\n",
    "from leap_ec import core, ops, real_problems\n",
    "\n",
    "l=10\n",
    "pop_size=10\n",
    "ea = generational_ea(generations=100, pop_size=pop_size,\n",
    "                     problem=real_problems.SpheroidProblem(maximize=False),\n",
    "                     \n",
    "                     representation=core.Representation(\n",
    "                         individual_cls=core.Individual,\n",
    "                         decoder=core.IdentityDecoder(),\n",
    "                         initialize=core.create_real_vector(bounds=[[-5.12, 5.12]] * l)\n",
    "                     ),\n",
    "\n",
    "                     pipeline=[\n",
    "                         ops.tournament,\n",
    "                         ops.clone,\n",
    "                         ops.mutate_gaussian(std=0.5),\n",
    "                         ops.evaluate,\n",
    "                         ops.pool(size=pop_size),\n",
    "                         plot_probe  # Insert the probe into the pipeline like so\n",
    "                     ])\n",
    "list(ea);"
   ]
  },
  {
   "cell_type": "markdown",
   "metadata": {},
   "source": [
    "Scroll up to the previous cell while the algorithm is running—the live results get placed there, thanks to the callbacks on `plot_probe`!"
   ]
  },
  {
   "cell_type": "markdown",
   "metadata": {},
   "source": [
    "## Viewing Fitness Functions"
   ]
  },
  {
   "cell_type": "markdown",
   "metadata": {},
   "source": [
    "When dealing with basic benchmark functions, we very often want to take a look at the problem we're solving (at the very least to make sure we're solving the right one!).\n",
    "\n",
    "To save you typing with `matplotlib`, LEAP offers convenience methods for plotting real-valued fitness surfaces.\n",
    "\n",
    "Here's how we'd view a surface plot for the `SpheroidProblem`:"
   ]
  },
  {
   "cell_type": "code",
   "execution_count": null,
   "metadata": {},
   "outputs": [],
   "source": [
    "from leap_ec import real_problems as real\n",
    "\n",
    "real.plot_2d_problem(real.SpheroidProblem(), xlim=(-5.12, 5.12), ylim=(-5.12, 5.12));"
   ]
  },
  {
   "cell_type": "markdown",
   "metadata": {},
   "source": [
    "You can also plot a function's fitness contours.\n",
    "\n",
    "This time we'll explicitly set up a `matplotlib` figure and tell `plot_2d_problem` to plot to its axes (with the `ax=plt.gca()` parameter).  This allows us to configure subplots and arrange them side-by-side (using standard `matplotlib` foo:"
   ]
  },
  {
   "cell_type": "code",
   "execution_count": null,
   "metadata": {},
   "outputs": [],
   "source": [
    "problem = real_problems.SchwefelProblem()\n",
    "bounds = problem.bounds\n",
    "\n",
    "fig = plt.figure(figsize=(8, 3))\n",
    "\n",
    "plt.subplot(121, projection='3d')\n",
    "real_problems.plot_2d_problem(problem, xlim=bounds, ylim=bounds, ax=plt.gca())\n",
    "\n",
    "plt.subplot(122)\n",
    "real_problems.plot_2d_problem(problem, kind='contour', xlim=bounds, ylim=bounds, ax=plt.gca());"
   ]
  },
  {
   "cell_type": "markdown",
   "metadata": {},
   "source": [
    "## Viewing Population Trajectories\n",
    "\n"
   ]
  },
  {
   "cell_type": "code",
   "execution_count": null,
   "metadata": {},
   "outputs": [],
   "source": [
    "problem = real_problems.SchwefelProblem()\n",
    "bounds = problem.bounds"
   ]
  },
  {
   "cell_type": "code",
   "execution_count": null,
   "metadata": {},
   "outputs": [],
   "source": [
    "from leap_ec.probe import PlotTrajectoryProbe\n",
    "\n",
    "plt.figure(figsize=(8, 3))  # Setup a figure to plot to\n",
    "\n",
    "plt.subplot(121)\n",
    "trajectory_probe = PlotTrajectoryProbe(core.context, contours=problem, ax=plt.gca(), xlim=bounds, ylim=bounds)\n",
    "\n",
    "plt.subplot(122)\n",
    "fitness_probe = PopulationPlotProbe(core.context, ax=plt.gca())"
   ]
  },
  {
   "cell_type": "code",
   "execution_count": null,
   "metadata": {},
   "outputs": [],
   "source": [
    "from leap_ec.algorithm import generational_ea\n",
    "from leap_ec import core, ops, real_problems\n",
    "\n",
    "l=10\n",
    "pop_size=10\n",
    "ea = generational_ea(generations=100, pop_size=pop_size,\n",
    "                     problem=real_problems.SpheroidProblem(maximize=False),\n",
    "                     \n",
    "                     representation=core.Representation(\n",
    "                         decoder=core.IdentityDecoder(),\n",
    "                         initialize=core.create_real_vector(bounds=[problem.bounds] * l)\n",
    "                     ),\n",
    "\n",
    "                     pipeline=[\n",
    "                         ops.tournament,\n",
    "                         ops.clone,\n",
    "                         ops.mutate_gaussian(std=50, hard_bounds=problem.bounds),\n",
    "                         ops.evaluate,\n",
    "                         ops.pool(size=pop_size),\n",
    "                         trajectory_probe,  # Insert the probes into the pipeline like so\n",
    "                         fitness_probe\n",
    "                     ])\n",
    "list(ea);"
   ]
  }
 ],
 "metadata": {
  "kernelspec": {
   "display_name": "LEAP_venv",
   "language": "python",
   "name": "leap_venv"
  },
  "language_info": {
   "codemirror_mode": {
    "name": "ipython",
    "version": 3
   },
   "file_extension": ".py",
   "mimetype": "text/x-python",
   "name": "python",
   "nbconvert_exporter": "python",
   "pygments_lexer": "ipython3",
   "version": "3.7.3"
  }
 },
 "nbformat": 4,
 "nbformat_minor": 2
}
