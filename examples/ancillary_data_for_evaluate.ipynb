{
 "cells": [
  {
   "cell_type": "markdown",
   "metadata": {},
   "source": [
    "# Passing ancillary information to evaluate()\n",
    "\n",
    "This notebook explores passing anciallary information for evaluating individuals.\n",
    "\n",
    "For example, each `leap_ec.distributed.individual.DistributedIndividual` supports adding a UUID for each newly created individual.  This UUID string can be used to create a file or subdirectory name that can be later associated with that individual.  For example, a deep-learner model can use that as a file name, or a file containing frames for a driving animation can be stored in a subdirectory that uses that UUID as a name.  However, `Problem.evaluate()` has no direct support for passing that UUID to support either of those scenarios, or any other similar ancillary information.\n",
    "\n",
    "This notebook poses two solutions: one where `*args, **kwargs` is added to `Problem.evluate()` and the other where a special `Decoder` that adds that ancillary information is given."
   ]
  },
  {
   "cell_type": "code",
   "execution_count": 9,
   "metadata": {},
   "outputs": [],
   "source": [
    "import random\n",
    "from math import nan\n",
    "\n",
    "from pprint import pformat\n",
    "\n",
    "import leap_ec\n",
    "\n",
    "from leap_ec.core import Decoder\n",
    "from leap_ec.problem import ScalarProblem\n",
    "from leap_ec.distributed.individual import DistributedIndividual"
   ]
  },
  {
   "cell_type": "markdown",
   "metadata": {},
   "source": [
    "## Tailoring an `Individual` and `Problem` to accept ancillary evaluation information\n",
    "First we'll demonstrate extending `Individual` and tailoring a corresponding `Problem` subclass to allow for passing ancially information to `Problem.evaluate()`."
   ]
  },
  {
   "cell_type": "code",
   "execution_count": 2,
   "metadata": {},
   "outputs": [],
   "source": [
    "# Define a problem class that uses UUID during evaluation\n",
    "class UUIDProblem(ScalarProblem):\n",
    "    def __init__(self):\n",
    "        super().__init__(maximize=True)\n",
    "        \n",
    "    def evaluate(self, phenome, *args, **kwargs):\n",
    "        print(f'UUIDProblem.evaluate(), phenome: {str(phenome)}, uuid: {str(kwargs[\"uuid\"])}')\n",
    "        # Just return a random number because we only care about ensuring the UUID made it to evaluate\n",
    "        return random.random()"
   ]
  },
  {
   "cell_type": "code",
   "execution_count": 3,
   "metadata": {},
   "outputs": [],
   "source": [
    "# We need to subclass DistributedIndividual to ensure that it passes the UUID for evaluations;\n",
    "# DistributedIndividual implicitly tags each newly created individual with a UUID, which is\n",
    "# why we're using it for this example instead of Individual.\n",
    "class MyDistributedIndividual(DistributedIndividual):\n",
    "    def __init__(self,genome, decoder=None, problem=None):\n",
    "        super().__init__(genome, decoder, problem) # superclass will also set self.uuid\n",
    "        \n",
    "    def evaluate(self):\n",
    "        \"\"\" we copy the contents of core.Individual.evaluate() to capture semantics,\n",
    "            and extend it to pass the UUID to evaluate()\n",
    "        \"\"\"\n",
    "        try:\n",
    "            self.fitness = self.problem.evaluate(self.decode(), uuid=self.uuid)\n",
    "            self.is_viable = True # we were able to evaluate\n",
    "        except Exception as e:\n",
    "            self.fitness = nan\n",
    "            self.exception = e\n",
    "            self.is_viable = False # we could not complete an eval\n",
    "\n",
    "        return self.fitness"
   ]
  },
  {
   "cell_type": "code",
   "execution_count": 4,
   "metadata": {},
   "outputs": [
    {
     "name": "stdout",
     "output_type": "stream",
     "text": [
      "UUIDProblem.evaluate(), phenome: [], uuid: 85fa7336-a225-4dbf-8600-c0f700b416a5\n",
      "ind uuid: 85fa7336-a225-4dbf-8600-c0f700b416a5, ind.fitness: 0.6586321029838671\n"
     ]
    }
   ],
   "source": [
    "# Now test this scheme out by creating an example individual\n",
    "ind = MyDistributedIndividual([], decoder=leap_ec.core.IdentityDecoder(), problem=UUIDProblem())\n",
    "\n",
    "fitness = ind.evaluate()\n",
    "\n",
    "print(f'ind uuid: {ind.uuid}, ind.fitness: {ind.fitness}')"
   ]
  },
  {
   "cell_type": "markdown",
   "metadata": {},
   "source": [
    "Since we had full control over `UUIDProblem.evaluate()` we could have explicitly added a `uuid` keyword parameter, especially since our tailored `MyDistributedIndividaul.evaluate()` was going to be the only `evaluate()` to call it.  However, this did have a disadvantage in that we had to faithfully copy over the original `Individual.evaluate()` and hack to fit to ensure the exception handling semantics made it over."
   ]
  },
  {
   "cell_type": "markdown",
   "metadata": {},
   "source": [
    "## Extending a `Decoder` to contain ancillary data to pass to a tailored `Problem`\n",
    "\n",
    "The next approach entails extending the `phenome`, itself, to contain the desired ancillary data.  That is, `Problem.evalute()` accepts a `phenome` parameter, not a `genome` as happens with other, extand EA toolkits, and we can piggyback that ancillary data in the phenome. During the evaluation an individual's genome is decoded into a phenome meaningful to a given `Problem` instance.  Of course for representations that are already phenotypic, such as real-valued vectors, the decoder can be `IdentifyDecoder` that just faithfully passes along the `genome` as the `phenome` without change.\n",
    "\n",
    "Though there is generally a one-to-one mapping between the genome and phenome, it needn't be that way.  That is, the phenotypic space can contain information not found in the genome.  For example, alleles will dictate our hair color, but we can still dye hair a different color.  So, extending the phenome to include additional information is a more \"evolutionary correct\" approach to using ancillary information.\n",
    "\n",
    "In our test implementation we modify the `Decoder` abstract base class to have `decode` accept arguments for what individual attributes, such as the UUID, we want to pass to `Problem.evaluate()`.  We once again use the familiar `*args, **kwargs` pattern."
   ]
  },
  {
   "cell_type": "markdown",
   "metadata": {},
   "source": [
    "(This is what changed in the base implementation.)\n",
    "```\n",
    "class Decoder(abc.ABC):\n",
    "    @abc.abstractmethod\n",
    "    def decode(self, genome, *args, **kwargs): # added optional args and kwargs\n",
    "        pass\n",
    "```\n",
    "\n",
    "So, now to use this modified version of the decoder."
   ]
  },
  {
   "cell_type": "code",
   "execution_count": 20,
   "metadata": {},
   "outputs": [],
   "source": [
    "# Define a problem class that uses UUID during evaluation\n",
    "class DifferentUUIDProblem(ScalarProblem):\n",
    "    def __init__(self):\n",
    "        super().__init__(maximize=True)\n",
    "        \n",
    "    def evaluate(self, phenome):\n",
    "        print(f'DifferentUUIDProblem.evaluate(), phenome: {pformat(repr(phenome))}')\n",
    "        # Just return a random number because we only care about ensuring the UUID made it to evaluate\n",
    "        return random.random()"
   ]
  },
  {
   "cell_type": "code",
   "execution_count": 21,
   "metadata": {},
   "outputs": [],
   "source": [
    "class ExtraIdentityDecoder(Decoder):\n",
    "    def __init__(self):\n",
    "        super().__init__()\n",
    "\n",
    "    def decode(self, genome, *args, **kwargs):\n",
    "        print(f'decode(): genome: {genome}, args: {args}, kwargs: {kwargs}')\n",
    "        return {'phenome' : genome, 'args' : args, 'kwargs' : kwargs}\n",
    "\n",
    "    def __repr__(self):\n",
    "        return type(self).__name__ + \"()\""
   ]
  },
  {
   "cell_type": "code",
   "execution_count": 22,
   "metadata": {},
   "outputs": [],
   "source": [
    "class MyOtherDistributedIndividual(DistributedIndividual):\n",
    "    def __init__(self,genome, decoder=None, problem=None):\n",
    "        super().__init__(genome, decoder, problem) # superclass will also set self.uuid\n",
    "        \n",
    "    def decode(self, *args, **kwargs): # Have to extend this, too\n",
    "        return self.decoder.decode(self.genome, args, kwargs)\n",
    "        \n",
    "    def evaluate(self):\n",
    "        \"\"\" we copy the contents of core.Individual.evaluate() to capture semantics,\n",
    "            and extend it to pass the UUID to evaluate()\n",
    "        \"\"\"\n",
    "#         phenome = self.decode(self.genome, uuid=self.uuid)\n",
    "        phenome = self.decode(self.genome, uuid=self.uuid)\n",
    "        try:\n",
    "            self.fitness = self.problem.evaluate(phenome)\n",
    "            self.is_viable = True # we were able to evaluate\n",
    "        except Exception as e:\n",
    "            self.fitness = nan\n",
    "            self.exception = e\n",
    "            self.is_viable = False # we could not complete an eval\n",
    "\n",
    "        return self.fitness"
   ]
  },
  {
   "cell_type": "code",
   "execution_count": 23,
   "metadata": {},
   "outputs": [
    {
     "name": "stdout",
     "output_type": "stream",
     "text": [
      "decode(): genome: [], args: (([],), {'uuid': UUID('f8c512d7-1f1f-4b97-8d97-fd25ae7c3102')}), kwargs: {}\n",
      "DifferentUUIDProblem.evaluate(), phenome: (\"{'phenome': [], 'args': (([],), {'uuid': \"\n",
      " \"UUID('f8c512d7-1f1f-4b97-8d97-fd25ae7c3102')}), 'kwargs': {}}\")\n",
      "ind uuid: f8c512d7-1f1f-4b97-8d97-fd25ae7c3102, ind.fitness: 0.716198188667923\n"
     ]
    }
   ],
   "source": [
    "# Now to test it out.\n",
    "\n",
    "ind = MyOtherDistributedIndividual([], decoder=ExtraIdentityDecoder(), problem=DifferentUUIDProblem())\n",
    "\n",
    "fitness = ind.evaluate()\n",
    "\n",
    "print(f'ind uuid: {ind.uuid}, ind.fitness: {ind.fitness}')"
   ]
  },
  {
   "cell_type": "code",
   "execution_count": null,
   "metadata": {},
   "outputs": [],
   "source": []
  }
 ],
 "metadata": {
  "kernelspec": {
   "display_name": "LEAP_venv",
   "language": "python",
   "name": "leap_venv"
  },
  "language_info": {
   "codemirror_mode": {
    "name": "ipython",
    "version": 3
   },
   "file_extension": ".py",
   "mimetype": "text/x-python",
   "name": "python",
   "nbconvert_exporter": "python",
   "pygments_lexer": "ipython3",
   "version": "3.7.3"
  }
 },
 "nbformat": 4,
 "nbformat_minor": 4
}
