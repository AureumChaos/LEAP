{
 "cells": [
  {
   "cell_type": "markdown",
   "metadata": {},
   "source": [
    "# Simple synchronous parallel evaluation\n",
    "\n",
    "This demonstrates a very simple synchronous evaluation model, which is essentially a map/reduce approach to concurrently evaluating individuals.  This lends itself naturally to a by-generation implementation, which we show here."
   ]
  },
  {
   "cell_type": "code",
   "execution_count": 1,
   "metadata": {},
   "outputs": [],
   "source": [
    "import sys\n",
    "from dask.distributed import Client, LocalCluster\n",
    "import toolz\n",
    "\n",
    "from leap import core\n",
    "from leap import ops\n",
    "from leap import binary_problems\n",
    "from leap import util\n",
    "from leap.parallel import sync"
   ]
  },
  {
   "cell_type": "markdown",
   "metadata": {},
   "source": [
    "First, let's set up `dask` to run on local pretend\"cluster\" on your machine."
   ]
  },
  {
   "cell_type": "code",
   "execution_count": 2,
   "metadata": {},
   "outputs": [],
   "source": [
    "cluster = LocalCluster()\n",
    "client = Client(cluster)"
   ]
  },
  {
   "cell_type": "markdown",
   "metadata": {},
   "source": [
    "Now create an initial random population of five individuals that use a binary representation for solving the MAX ONES problem."
   ]
  },
  {
   "cell_type": "code",
   "execution_count": 11,
   "metadata": {},
   "outputs": [],
   "source": [
    "parents = core.Individual.create_population(5,\n",
    "                                            initialize=core.create_binary_sequence(4),\n",
    "                                            decoder=core.IdentityDecoder(), problem=binary_problems.MaxOnes())"
   ]
  },
  {
   "cell_type": "markdown",
   "metadata": {},
   "source": [
    "However, we need to evaluate this initial population *before* we fall into the by-generation loop since we select parents based on their fitness, and that implies that they've already been evaluated.  But, since we want to use a sychronous, concurrent evaluation mechanism throughout this exsmple, we will use `sync.eval_population()`"
   ]
  },
  {
   "cell_type": "code",
   "execution_count": 12,
   "metadata": {},
   "outputs": [],
   "source": [
    "parents = sync.eval_population(parents, client=client)"
   ]
  },
  {
   "cell_type": "markdown",
   "metadata": {},
   "source": [
    "Now show that the initial population has, indeed, been evaluated by all the dask workers."
   ]
  },
  {
   "cell_type": "code",
   "execution_count": 13,
   "metadata": {},
   "outputs": [
    {
     "name": "stdout",
     "output_type": "stream",
     "text": [
      "[0, 0, 1, 0] 1\n",
      "[0, 0, 1, 1] 2\n",
      "[0, 1, 0, 1] 2\n",
      "[1, 1, 0, 1] 3\n",
      "[0, 1, 1, 1] 3\n"
     ]
    },
    {
     "data": {
      "text/plain": [
       "[None, None, None, None, None]"
      ]
     },
     "execution_count": 13,
     "metadata": {},
     "output_type": "execute_result"
    }
   ],
   "source": [
    "[print(x.genome, x.fitness) for x in parents]"
   ]
  },
  {
   "cell_type": "markdown",
   "metadata": {},
   "source": [
    "Now we're ready to run for five generations.  For each generation we'll again concurrently evaluate all the offspring before proceeding to the next generation."
   ]
  },
  {
   "cell_type": "code",
   "execution_count": 14,
   "metadata": {},
   "outputs": [
    {
     "name": "stdout",
     "output_type": "stream",
     "text": [
      "generation: 0\n",
      "[1, 1, 0, 1] 3\n",
      "[0, 1, 1, 1] 3\n",
      "[0, 0, 1, 1] 2\n",
      "[1, 0, 0, 0] 1\n",
      "[0, 1, 1, 1] 3\n",
      "generation: 1\n",
      "[1, 1, 1, 0] 3\n",
      "[1, 1, 0, 1] 3\n",
      "[0, 1, 0, 1] 2\n",
      "[1, 1, 1, 1] 4\n",
      "[0, 1, 0, 1] 2\n",
      "generation: 2\n",
      "[0, 0, 1, 1] 2\n",
      "[1, 1, 1, 0] 3\n",
      "[0, 1, 0, 1] 2\n",
      "[1, 1, 0, 1] 3\n",
      "[0, 1, 0, 1] 2\n",
      "generation: 3\n",
      "[0, 1, 0, 1] 2\n",
      "[1, 0, 1, 0] 2\n",
      "[1, 1, 1, 1] 4\n",
      "[0, 1, 0, 0] 1\n",
      "[0, 1, 0, 0] 1\n",
      "generation: 4\n",
      "[0, 0, 1, 1] 2\n",
      "[1, 0, 0, 1] 2\n",
      "[1, 0, 0, 1] 2\n",
      "[1, 1, 0, 1] 3\n",
      "[1, 0, 0, 1] 2\n"
     ]
    }
   ],
   "source": [
    "for current_generation in range(5):\n",
    "    offspring = toolz.pipe(parents,\n",
    "                         ops.tournament,\n",
    "                         ops.clone,\n",
    "                         ops.mutate_bitflip,\n",
    "                         ops.uniform_crossover,\n",
    "                         sync.eval_pool(client=client, size=len(parents)))\n",
    "    \n",
    "    print('generation:', current_generation)\n",
    "    [print(x.genome, x.fitness) for x in offspring]\n",
    "    \n",
    "    parents = offspring"
   ]
  },
  {
   "cell_type": "code",
   "execution_count": 10,
   "metadata": {},
   "outputs": [
    {
     "name": "stdout",
     "output_type": "stream",
     "text": [
      "[0, 1, 0, 0] 1\n",
      "[0, 1, 1, 1] 3\n",
      "[0, 0, 0, 0] 0\n",
      "[0, 0, 1, 1] 2\n",
      "[1, 1, 0, 1] 3\n"
     ]
    },
    {
     "data": {
      "text/plain": [
       "[None, None, None, None, None]"
      ]
     },
     "execution_count": 10,
     "metadata": {},
     "output_type": "execute_result"
    }
   ],
   "source": [
    "[print(x.genome, x.fitness) for x in parents]"
   ]
  }
 ],
 "metadata": {
  "kernelspec": {
   "display_name": "Python 3",
   "language": "python",
   "name": "python3"
  },
  "language_info": {
   "codemirror_mode": {
    "name": "ipython",
    "version": 3
   },
   "file_extension": ".py",
   "mimetype": "text/x-python",
   "name": "python",
   "nbconvert_exporter": "python",
   "pygments_lexer": "ipython3",
   "version": "3.7.3"
  }
 },
 "nbformat": 4,
 "nbformat_minor": 2
}
