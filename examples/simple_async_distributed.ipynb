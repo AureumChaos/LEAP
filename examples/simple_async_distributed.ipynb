{
 "cells": [
  {
   "cell_type": "markdown",
   "metadata": {},
   "source": [
    "# Asynchronous parallel evaluation\n",
    "\n",
    "This demonstrates an asynchronous evaluation model, or as is known more formally, an asynchronous steady-state evolutionary algorithm (ASEA).  We will demonstrate two approaches.  The first shows a detailed implementation suitable for practitioners that like to have full control of their implementations.  The second shows a more accessible approach using a single, monolithic function that implements a full ASEA."
   ]
  },
  {
   "cell_type": "code",
   "execution_count": 1,
   "metadata": {},
   "outputs": [],
   "source": [
    "import sys\n",
    "from dask.distributed import Client, LocalCluster\n",
    "import toolz\n",
    "\n",
    "from leap import core\n",
    "from leap import ops\n",
    "from leap import binary_problems\n",
    "from leap import util\n",
    "from leap.distributed import asynchronous\n",
    "from leap.distributed import evaluate"
   ]
  },
  {
   "cell_type": "markdown",
   "metadata": {},
   "source": [
    "First, let's set up `dask` to run on local pretend \"cluster\" on your machine."
   ]
  },
  {
   "cell_type": "code",
   "execution_count": 2,
   "metadata": {},
   "outputs": [],
   "source": [
    "cluster = LocalCluster()\n",
    "client = Client(cluster)"
   ]
  },
  {
   "cell_type": "markdown",
   "metadata": {},
   "source": [
    "Now create an initial random population of five individuals that use a binary representation of four bits for solving the MAX ONES problem."
   ]
  },
  {
   "cell_type": "code",
   "execution_count": 3,
   "metadata": {},
   "outputs": [],
   "source": [
    "parents = core.Individual.create_population(5,\n",
    "                                            initialize=core.create_binary_sequence(4),\n",
    "                                            decoder=core.IdentityDecoder(), problem=binary_problems.MaxOnes())"
   ]
  },
  {
   "cell_type": "markdown",
   "metadata": {},
   "source": [
    "To get things started, we send the entire randomly generated initial population to dask to start getting evaluated asynchronously.  We do this by calling `asynchronous.eval_population()`, which returns a distributed dask `as_completed` iterator.  Essentially running `next()` on that iterator will iterate to the next completed individual."
   ]
  },
  {
   "cell_type": "code",
   "execution_count": 4,
   "metadata": {},
   "outputs": [],
   "source": [
    "as_completed_iter = asynchronous.eval_population(parents, client=client)"
   ]
  },
  {
   "cell_type": "markdown",
   "metadata": {},
   "source": [
    "We create a \"bag\" that will contain the evaluated individuals.  This bag will initially be an empty list."
   ]
  },
  {
   "cell_type": "code",
   "execution_count": 5,
   "metadata": {},
   "outputs": [],
   "source": [
    "bag = []"
   ]
  },
  {
   "cell_type": "markdown",
   "metadata": {},
   "source": [
    "Then we fall into a loop where we insert individuals into a bag with an arbitrary capacity of three.  That means the first three individuals will just be inserted into the bag.  However, the fourth and fifth individual will have to fight it out to be inserted.  We chose the greedy insertion function that means new individuals fight it out with the current *weakest* individual in the bag; there is an alternative function, `insert_into_bag()` that just randomly selects an opponent from the current bag.\n",
    "\n",
    "To make things more interesting, we will create up to four *new* offspring from the bag. In later, more complex examples, we'll implement a proper births budget to limit the total number of evaluated individuals."
   ]
  },
  {
   "cell_type": "code",
   "execution_count": 6,
   "metadata": {},
   "outputs": [
    {
     "name": "stdout",
     "output_type": "stream",
     "text": [
      "0 , evaluated:  [1, 0, 0, 1] 2\n",
      "created offspring: [1, 0, 1, 1]\n",
      "1 , evaluated:  [0, 0, 1, 1] 2\n",
      "created offspring: [1, 0, 1, 0]\n",
      "2 , evaluated:  [1, 1, 0, 1] 3\n",
      "created offspring: [0, 0, 1, 0]\n",
      "3 , evaluated:  [0, 0, 0, 0] 0\n",
      "created offspring: [1, 0, 0, 1]\n",
      "4 , evaluated:  [1, 0, 0, 0] 1\n",
      "5 , evaluated:  [1, 0, 1, 1] 3\n",
      "6 , evaluated:  [0, 0, 1, 0] 1\n",
      "7 , evaluated:  [1, 0, 1, 0] 2\n",
      "8 , evaluated:  [1, 0, 0, 1] 2\n"
     ]
    }
   ],
   "source": [
    "num_offspring = 0\n",
    "\n",
    "for i, evaluated_future in enumerate(as_completed_iter):\n",
    "    \n",
    "    evaluated = evaluated_future.result()\n",
    "    \n",
    "    print(i, ', evaluated: ', evaluated.genome, evaluated.fitness)\n",
    "    \n",
    "    asynchronous.greedy_insert_into_bag(evaluated, bag, 3)\n",
    "    \n",
    "    if num_offspring < 4:\n",
    "        # Only create offspring if we have the budget for one\n",
    "        offspring = toolz.pipe(bag,\n",
    "                               ops.random_selection,\n",
    "                               ops.clone,\n",
    "                               ops.mutate_bitflip,\n",
    "                               ops.pool(size=1))\n",
    "        print('created offspring:', offspring[0].genome)\n",
    "        \n",
    "        # Now asyncrhonously submit to dask\n",
    "        as_completed_iter.add(client.submit(evaluate.evaluate(context=core.context), offspring[0]))\n",
    "        \n",
    "        num_offspring += 1    "
   ]
  },
  {
   "cell_type": "markdown",
   "metadata": {},
   "source": [
    "Now `bag` should contain the final population of the seven total individuals cooked down to the three best.  Note that there are nine total \"evaluated\" lines that correspond to the original five randomly generated individuals plus the four new ones we added inside the loop."
   ]
  },
  {
   "cell_type": "code",
   "execution_count": 7,
   "metadata": {},
   "outputs": [
    {
     "name": "stdout",
     "output_type": "stream",
     "text": [
      "0 [1, 0, 0, 1] 2\n",
      "1 [0, 0, 1, 1] 2\n",
      "2 [1, 1, 0, 1] 3\n",
      "3 [1, 0, 1, 1] 3\n"
     ]
    },
    {
     "data": {
      "text/plain": [
       "[None, None, None, None]"
      ]
     },
     "execution_count": 7,
     "metadata": {},
     "output_type": "execute_result"
    }
   ],
   "source": [
    "[print(i, ind.genome, ind.fitness) for i, ind in enumerate(bag)]"
   ]
  }
 ],
 "metadata": {
  "kernelspec": {
   "display_name": "Python 3",
   "language": "python",
   "name": "python3"
  },
  "language_info": {
   "codemirror_mode": {
    "name": "ipython",
    "version": 3
   },
   "file_extension": ".py",
   "mimetype": "text/x-python",
   "name": "python",
   "nbconvert_exporter": "python",
   "pygments_lexer": "ipython3",
   "version": "3.7.3"
  }
 },
 "nbformat": 4,
 "nbformat_minor": 2
}
