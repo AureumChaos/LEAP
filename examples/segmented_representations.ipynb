{
 "cells": [
  {
   "cell_type": "markdown",
   "metadata": {},
   "source": [
    "# Segmented Representations\n",
    "\n",
    "One common representation in evolutionary algorithms (EA) is that of a \"segmented representation.\"  That is, each individual is comprised of a sequence of segments, which are themselves fixed-length sequences, and are usually binary, but needn't be.  Each segment represents a salient feature, such as a rule in a Pitt Approach system, or a convolutional layer and its hyperparameters, as is the case for Multi-node Evolutionary Neural Networks for Deep Learning (MENNDL).\n",
    "\n",
    "There are two broad categories for these systems: those that have a fixed number of such segments, as is the case currently for MENNDL, and a dynamic number of segments, as is the case for Pitt Approach classifiers.\n",
    "\n",
    "In this notebook we look at LEAP support for segmented representations, starting with initializers and decoders, and then looking at the mutation pipeline operator.  We then plug all that into a simple EA example.\n"
   ]
  },
  {
   "cell_type": "code",
   "execution_count": 1,
   "metadata": {},
   "outputs": [],
   "source": [
    "import sys\n",
    "import random\n",
    "import functools\n",
    "from pprint import pprint, pformat\n",
    "import numpy as np\n",
    "from toolz import pipe\n",
    "\n",
    "from leap_ec.individual import Individual\n",
    "from leap_ec.ops import pool, cyclic_selection, clone\n",
    "\n",
    "from leap_ec.segmented_rep.initializers import create_segmented_sequence\n",
    "from leap_ec.segmented_rep.decoders import SegmentedDecoder\n",
    "from leap_ec.segmented_rep.ops import apply_mutation, add_segment, remove_segment, copy_segment\n",
    "\n",
    "from leap_ec.binary_rep.initializers import create_binary_sequence\n",
    "from leap_ec.binary_rep.ops import genome_mutate_bitflip\n",
    "from leap_ec.binary_rep.decoders import BinaryToIntDecoder\n",
    "\n",
    "from leap_ec.real_rep.initializers import create_real_vector\n",
    "from leap_ec.real_rep.ops import genome_mutate_gaussian"
   ]
  },
  {
   "cell_type": "markdown",
   "metadata": {},
   "source": [
    "## Binary genomes\n",
    "\n",
    "We first look at segmented representations with segments that use a binary representaion."
   ]
  },
  {
   "cell_type": "code",
   "execution_count": 2,
   "metadata": {},
   "outputs": [
    {
     "name": "stdout",
     "output_type": "stream",
     "text": [
      "[[1, 1, 0, 1, 1], [0, 0, 0, 1, 0], [1, 0, 1, 0, 1], [1, 0, 0, 1, 0]]\n"
     ]
    }
   ],
   "source": [
    "# Create a genome of four segments of five binary digits.\n",
    "seg = create_segmented_sequence(4, create_binary_sequence(5))\n",
    "print(seg)"
   ]
  },
  {
   "cell_type": "code",
   "execution_count": 3,
   "metadata": {},
   "outputs": [
    {
     "name": "stdout",
     "output_type": "stream",
     "text": [
      "0 [[1, 1, 0, 0, 1], [0, 0, 1, 0, 0], [0, 0, 0, 1, 0], [0, 1, 1, 1, 0]]\n",
      "1 [[1, 0, 1, 1, 0], [0, 1, 1, 1, 1]]\n",
      "2 [[1, 1, 0, 0, 0]]\n",
      "3 [[0, 0, 1, 1, 0], [0, 0, 0, 1, 1]]\n",
      "4 [[0, 1, 1, 0, 0], [1, 0, 1, 1, 1], [0, 0, 0, 0, 0]]\n"
     ]
    }
   ],
   "source": [
    "# Now create five genomes of varying length by passing in a function for `length` that provides an\n",
    "# integer drawn from a distribution.\n",
    "seqs = [] # Save sequences for next step\n",
    "for i in range(5):\n",
    "    seq = create_segmented_sequence(functools.partial(random.randint, a=1,b=5), create_binary_sequence(5))\n",
    "    print(i, seq)\n",
    "    seqs.append(seq)"
   ]
  },
  {
   "cell_type": "markdown",
   "metadata": {},
   "source": [
    "Now let's see about decoding those segments.  The segmented representation relies on a secondary decoder that's applied to each segment.  In this case, we'll just use a simple binary to int decoder on the segments we created in the previous step."
   ]
  },
  {
   "cell_type": "code",
   "execution_count": 4,
   "metadata": {},
   "outputs": [
    {
     "name": "stdout",
     "output_type": "stream",
     "text": [
      "0 [[3, 1], [0, 4], [0, 2], [1, 6]]\n",
      "1 [[2, 6], [1, 7]]\n",
      "2 [[3, 0]]\n",
      "3 [[0, 6], [0, 3]]\n",
      "4 [[1, 4], [2, 7], [0, 0]]\n"
     ]
    }
   ],
   "source": [
    "# We want each segment to have two integers from the five bits.\n",
    "decoder = SegmentedDecoder(BinaryToIntDecoder(2,3)) \n",
    "\n",
    "for i, seq in enumerate(seqs):\n",
    "    vals = decoder.decode(seq)\n",
    "    print(i, vals)"
   ]
  },
  {
   "cell_type": "code",
   "execution_count": 5,
   "metadata": {},
   "outputs": [
    {
     "name": "stdout",
     "output_type": "stream",
     "text": [
      "original: [[0, 0], [1, 1]]\n",
      "mutated: [[1, 0], [0, 0]]\n"
     ]
    }
   ],
   "source": [
    "# And now for mutation, which shows that, on average, a single value is changed in an example individual.  The\n",
    "# takeaway here is that segmented mutation just uses a mutator from another representation and naively applies it.\n",
    "\n",
    "original = Individual([[0,0],[1,1]])\n",
    "print('original:', original)\n",
    "mutated = next(apply_mutation(iter([original]),mutator=genome_mutate_bitflip))\n",
    "print('mutated:', mutated)"
   ]
  },
  {
   "cell_type": "markdown",
   "metadata": {},
   "source": [
    "## Real-valued genomes\n",
    "\n",
    "Now we demonstrate the same process using a real-valued representation."
   ]
  },
  {
   "cell_type": "code",
   "execution_count": 6,
   "metadata": {},
   "outputs": [
    {
     "name": "stdout",
     "output_type": "stream",
     "text": [
      "0 [ [-1.8973586637375401, 0.5429358612872954, 0.0052846033063165265],\n",
      "  [-0.5754921007925509, 0.5104225758006147, 6.4648271768005365],\n",
      "  [-3.4834242225033405, -0.26507258048532023, 1.935257535128457]]\n",
      "1 [ [4.98067083675486, 0.4223739312771899, -5.925152673270164],\n",
      "  [-2.577998425670687, -0.35010930955341757, -2.617175140240022]]\n",
      "2 [[-0.5684113423076393, -0.04963893132542441, 5.449940202099189]]\n",
      "3 [ [-0.316042198876505, -0.13466716975734516, 9.3410379221799],\n",
      "  [0.6957597935205024, -0.6893605496835147, -1.9398972704320094],\n",
      "  [-0.34054363261319764, -0.38336623906202805, -5.64731803306884]]\n",
      "4 [ [0.11732469015839264, -0.7359217090528429, -3.099837594705037],\n",
      "  [-4.8520935601328015, -0.5778270903000526, 3.0948850786428643]]\n",
      "5 [ [-2.556130348154271, -0.7040061334657957, 1.6982386488629704],\n",
      "  [1.491859774130151, -0.047509351710018244, 9.321873468073917],\n",
      "  [-3.998912637647323, -0.6493184695058707, -8.604538374025111],\n",
      "  [-1.6518550600335664, 0.5130972581544762, -2.4723515656917634],\n",
      "  [1.6328743104455272, -0.8708323503387507, -9.194286780589794]]\n"
     ]
    }
   ],
   "source": [
    "# Create five segmented sequences that vary from 1 to 3 segments\n",
    "bounds = ((-5.12,5.12), (-1,1), (-10,10)) # three reals and their respective bounds for sampling\n",
    "seqs = []\n",
    "for i in range(5):\n",
    "    seq = create_segmented_sequence(functools.partial(random.randint, a=1,b=3), \n",
    "                                    create_real_vector(bounds))\n",
    "    seqs.append(seq)\n",
    "\n",
    "# Just for fun, now add a genome that has exactly 5 segments\n",
    "seqs.append(create_segmented_sequence(5, create_real_vector(bounds)))\n",
    "\n",
    "for i, s in enumerate(seqs):\n",
    "    print(i, pformat(s, indent=2))"
   ]
  },
  {
   "cell_type": "markdown",
   "metadata": {},
   "source": [
    "Now we repeat the application of the segmented mutation operator, but this time to real-valued genomes."
   ]
  },
  {
   "cell_type": "code",
   "execution_count": 27,
   "metadata": {},
   "outputs": [
    {
     "name": "stdout",
     "output_type": "stream",
     "text": [
      "original: [[0.0, 0.0], [1.0, 1.0], [-1.0, 0.0]]\n",
      "mutated: [[2.076157969470278, 0.14933710513356127], [0.23274025747200955, 1.0], [-1.7865022095622027, 1.720654038451787]]\n"
     ]
    }
   ],
   "source": [
    "original = Individual([[0.0,0.0],[1.0,1.0],[-1.0,0.0]])\n",
    "print('original:', original)\n",
    "mutated = next(apply_mutation(iter([original]), expected_num_mutation=3, mutator=genome_mutate_gaussian(std=1.0)))\n",
    "print('mutated:', mutated)"
   ]
  },
  {
   "cell_type": "markdown",
   "metadata": {},
   "source": [
    "# Other pipeline operators\n",
    "\n",
    "Besides the aformentioned `apply_mutation`, segmented representations have other pipeline operators, which are:\n",
    "\n",
    "* `add_segment()`, possibly add a new segment\n",
    "* `remove_segment()`, possibly remove a segment\n",
    "* `copy_segment()`, possibly select and copy an existing segment\n"
   ]
  },
  {
   "cell_type": "code",
   "execution_count": 8,
   "metadata": {},
   "outputs": [
    {
     "name": "stdout",
     "output_type": "stream",
     "text": [
      "pop: [Individual([[0, 0], [1, 1]], None, None),\n",
      " Individual([[0, 0], [1, 1]], None, None),\n",
      " Individual([[0, 0], [1, 1]], None, None),\n",
      " Individual([[0, 0], [1, 1]], None, None),\n",
      " Individual([[0, 0], [1, 1]], None, None)]\n",
      "new_pop: [Individual([[0, 0]], None, None),\n",
      " Individual([[0, 0]], None, None),\n",
      " Individual([[0, 0]], None, None),\n",
      " Individual([[1, 1]], None, None),\n",
      " Individual([[0, 0]], None, None)]\n"
     ]
    }
   ],
   "source": [
    "# demonstrate pipe by running existing sequence through a number of operators\n",
    "pop = [Individual([[0,0],[1,1]]) for x in range(5)]\n",
    "print('pop:', pformat(pop))\n",
    "new_pop = pipe(pop, \n",
    "               cyclic_selection,\n",
    "               clone,\n",
    "               remove_segment(probability=1.0), \n",
    "               pool(size=len(pop)))\n",
    "print('new_pop:', pformat(new_pop))"
   ]
  },
  {
   "cell_type": "code",
   "execution_count": 9,
   "metadata": {},
   "outputs": [
    {
     "name": "stdout",
     "output_type": "stream",
     "text": [
      "pop: [    Individual([[0, 0], [1, 1]], None, None),\n",
      "     Individual([[0, 0], [1, 1]], None, None),\n",
      "     Individual([[0, 0], [1, 1]], None, None),\n",
      "     Individual([[0, 0], [1, 1]], None, None),\n",
      "     Individual([[0, 0], [1, 1]], None, None)]\n",
      "new_pop: [        Individual([[0, 0], [0, 0], [1, 1]], None, None),\n",
      "         Individual([[1, 1], [0, 0], [1, 1]], None, None),\n",
      "         Individual([[0, 0], [1, 1], [1, 1]], None, None),\n",
      "         Individual([[1, 1], [0, 0], [1, 1]], None, None),\n",
      "         Individual([[0, 0], [1, 1], [1, 1]], None, None)]\n"
     ]
    }
   ],
   "source": [
    "# demonstrate pipe by running existing sequence through a number of operators\n",
    "pop = [Individual([[0,0],[1,1]]) for x in range(5)]\n",
    "print('pop:', pformat(pop, indent=5))\n",
    "new_pop = pipe(pop, \n",
    "               cyclic_selection,\n",
    "               clone,\n",
    "               copy_segment(probability=1.0),\n",
    "               pool(size=len(pop)))\n",
    "print('new_pop:', pformat(new_pop, indent=9))"
   ]
  },
  {
   "cell_type": "code",
   "execution_count": 10,
   "metadata": {},
   "outputs": [
    {
     "name": "stdout",
     "output_type": "stream",
     "text": [
      "pop: [    Individual([[0, 0], [1, 1]], None, None),\n",
      "     Individual([[0, 0], [1, 1]], None, None),\n",
      "     Individual([[0, 0], [1, 1]], None, None),\n",
      "     Individual([[0, 0], [1, 1]], None, None),\n",
      "     Individual([[0, 0], [1, 1]], None, None)]\n",
      "new_pop: [        Individual([[0, 0], [12345], [1, 1]], None, None),\n",
      "         Individual([[0, 0], [1, 1], [12345]], None, None),\n",
      "         Individual([[12345], [0, 0], [1, 1]], None, None),\n",
      "         Individual([[12345], [0, 0], [1, 1]], None, None),\n",
      "         Individual([[0, 0], [1, 1], [12345]], None, None)]\n"
     ]
    }
   ],
   "source": [
    "# lastly, demonstrate add_segment, which generates an entirely new segment\n",
    "test_sequence = [12345]  # just an arbitrary sequence for testing\n",
    "\n",
    "def gen_sequence():\n",
    "    \"\"\" return an arbitrary static test_sequence \"\"\"\n",
    "    return test_sequence\n",
    "\n",
    "pop = [Individual([[0,0],[1,1]]) for x in range(5)]\n",
    "print('pop:', pformat(pop, indent=5))\n",
    "\n",
    "new_pop = pipe(pop, \n",
    "               cyclic_selection,\n",
    "               clone,\n",
    "               add_segment(seq_initializer=gen_sequence, probability=1.0),\n",
    "               pool(size=len(pop)))\n",
    "print('new_pop:', pformat(new_pop, indent=9))"
   ]
  },
  {
   "cell_type": "code",
   "execution_count": null,
   "metadata": {},
   "outputs": [],
   "source": []
  }
 ],
 "metadata": {
  "kernelspec": {
   "display_name": "LEAP_venv",
   "language": "python",
   "name": "leap_venv"
  },
  "language_info": {
   "codemirror_mode": {
    "name": "ipython",
    "version": 3
   },
   "file_extension": ".py",
   "mimetype": "text/x-python",
   "name": "python",
   "nbconvert_exporter": "python",
   "pygments_lexer": "ipython3",
   "version": "3.7.3"
  }
 },
 "nbformat": 4,
 "nbformat_minor": 4
}
