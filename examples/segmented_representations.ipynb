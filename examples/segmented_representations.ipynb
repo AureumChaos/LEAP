{
 "cells": [
  {
   "cell_type": "markdown",
   "metadata": {},
   "source": [
    "# Segmented Representations\n",
    "\n",
    "One common representation in evolutionary algorithms (EA) is that of a \"segmented representation.\"  That is, each individual is comprised of a sequence of segments, which are themselves fixed-length sequences, and are usually binary, but needn't be.  Each segment represents a salient feature, such as a rule in a Pitt Approach system, or a convolutional layer and its hyperparameters, as is the case for Multi-node Evolutionary Neural Networks for Deep Learning (MENNDL).\n",
    "\n",
    "There are two broad categories for these systems: those that have a fixed number of such segments, as is the case currently for MENNDL, and a dynamic number of segments, as is the case for Pitt Approach classifiers.\n",
    "\n",
    "In this notebook we look at LEAP support for segmented representations, starting with initializers and decoders, and then looking at the mutation pipeline operator.  We then plug all that into a simple EA example.\n"
   ]
  },
  {
   "cell_type": "code",
   "execution_count": 7,
   "metadata": {},
   "outputs": [],
   "source": [
    "import sys\n",
    "import random\n",
    "import functools\n",
    "\n",
    "from leap_ec.binary_rep.initializers import create_binary_sequence\n",
    "from leap_ec.segmented_rep.initializers import create_segmented_sequence\n",
    "from leap_ec.segmented_rep.decoders import SegmentedDecoder\n",
    "from leap_ec.binary_rep.decoders import BinaryToIntDecoder\n",
    "from leap_ec.segmented_rep.ops import apply_mutation\n",
    "from leap_ec.binary_rep.ops import perform_mutate_bitflip"
   ]
  },
  {
   "cell_type": "code",
   "execution_count": 2,
   "metadata": {},
   "outputs": [
    {
     "name": "stdout",
     "output_type": "stream",
     "text": [
      "[[0, 1, 1, 1, 1], [0, 0, 0, 1, 0], [0, 0, 1, 0, 1], [0, 1, 1, 1, 0]]\n"
     ]
    }
   ],
   "source": [
    "# Create a genome of four segments of five binary digits.\n",
    "seg = create_segmented_sequence(4, create_binary_sequence(5))\n",
    "print(seg)"
   ]
  },
  {
   "cell_type": "code",
   "execution_count": 3,
   "metadata": {},
   "outputs": [
    {
     "name": "stdout",
     "output_type": "stream",
     "text": [
      "0 [[1, 0, 1, 0, 1], [0, 0, 1, 1, 1], [1, 0, 0, 0, 1], [0, 0, 1, 0, 0]]\n",
      "1 [[1, 1, 0, 0, 0], [0, 0, 1, 0, 1], [0, 1, 1, 0, 1]]\n",
      "2 [[1, 1, 1, 1, 0]]\n",
      "3 [[0, 1, 1, 1, 1]]\n",
      "4 [[1, 1, 1, 0, 0], [1, 1, 0, 0, 1]]\n"
     ]
    }
   ],
   "source": [
    "# Now create five genomes of varying length by passing in a function for `length` that provides an\n",
    "# integer drawn from a distribution.\n",
    "seqs = [] # Save sequences for next step\n",
    "for i in range(5):\n",
    "    seq = create_segmented_sequence(functools.partial(random.randint, a=1,b=5), create_binary_sequence(5))\n",
    "    print(i, seq)\n",
    "    seqs.append(seq)"
   ]
  },
  {
   "cell_type": "markdown",
   "metadata": {},
   "source": [
    "Now let's see about decoding those segments.  The segmented representation relies on a secondary decoder that's applied to each segment.  In this case, we'll just use a simple binary to int decoder on the segments we created in the previous step."
   ]
  },
  {
   "cell_type": "code",
   "execution_count": 5,
   "metadata": {},
   "outputs": [
    {
     "name": "stdout",
     "output_type": "stream",
     "text": [
      "0 [[2, 5], [0, 7], [2, 1], [0, 4]]\n",
      "1 [[3, 0], [0, 5], [1, 5]]\n",
      "2 [[3, 6]]\n",
      "3 [[1, 7]]\n",
      "4 [[3, 4], [3, 1]]\n"
     ]
    }
   ],
   "source": [
    "# We want each segment to have two integers from the five bits.\n",
    "decoder = SegmentedDecoder(BinaryToIntDecoder(2,3)) \n",
    "\n",
    "for i, seq in enumerate(seqs):\n",
    "    vals = decoder.decode(seq)\n",
    "    print(i, vals)"
   ]
  },
  {
   "cell_type": "code",
   "execution_count": 15,
   "metadata": {},
   "outputs": [
    {
     "name": "stdout",
     "output_type": "stream",
     "text": [
      "original: [[0, 0], [1, 1]]\n",
      "mutated: [[1, 0], [1, 1]]\n"
     ]
    }
   ],
   "source": [
    "# And now for mutation, which shows that, on average, a single value is changed in an example individual.  The\n",
    "# takeaway here is that segmented mutation just uses a mutator from another representation and naively applies it.\n",
    "from leap_ec.individual import Individual\n",
    "original = Individual([[0,0],[1,1]])\n",
    "print('original:', original)\n",
    "mutated = next(apply_mutation(iter([original]),mutator=perform_mutate_bitflip))\n",
    "print('mutated:', mutated)"
   ]
  },
  {
   "cell_type": "code",
   "execution_count": null,
   "metadata": {},
   "outputs": [],
   "source": []
  }
 ],
 "metadata": {
  "kernelspec": {
   "display_name": "LEAP_venv",
   "language": "python",
   "name": "leap_venv"
  },
  "language_info": {
   "codemirror_mode": {
    "name": "ipython",
    "version": 3
   },
   "file_extension": ".py",
   "mimetype": "text/x-python",
   "name": "python",
   "nbconvert_exporter": "python",
   "pygments_lexer": "ipython3",
   "version": "3.7.3"
  }
 },
 "nbformat": 4,
 "nbformat_minor": 4
}
