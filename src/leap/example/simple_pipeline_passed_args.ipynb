{
 "cells": [
  {
   "cell_type": "markdown",
   "metadata": {},
   "source": [
    "# Simple pipeline example of passing optional ancillary data\n",
    "\n",
    "One feature of LEAP is the ability to pass extra information down the pipeline that may be useful to some operators, such as the current generation.  This notebook provides some very basic examples of that capability.\n"
   ]
  },
  {
   "cell_type": "code",
   "execution_count": 1,
   "metadata": {},
   "outputs": [],
   "source": [
    "import sys, os\n",
    "from pprint import pprint"
   ]
  },
  {
   "cell_type": "code",
   "execution_count": 2,
   "metadata": {},
   "outputs": [],
   "source": [
    "import toolz\n",
    "\n",
    "from leap import core, ops, binary_problems"
   ]
  },
  {
   "cell_type": "markdown",
   "metadata": {},
   "source": [
    "Let's create a simple population of three individuals that have a binary representation of two bits each. "
   ]
  },
  {
   "cell_type": "code",
   "execution_count": 3,
   "metadata": {},
   "outputs": [
    {
     "data": {
      "text/plain": [
       "[Individual([0, 0], None, None),\n",
       " Individual([0, 0], None, None),\n",
       " Individual([0, 0], None, None)]"
      ]
     },
     "execution_count": 3,
     "metadata": {},
     "output_type": "execute_result"
    }
   ],
   "source": [
    "pop = []\n",
    "\n",
    "pop.append(core.Individual([0, 0]))\n",
    "pop.append(core.Individual([0, 0]))\n",
    "pop.append(core.Individual([0, 0]))\n",
    "\n",
    "pop"
   ]
  },
  {
   "cell_type": "code",
   "execution_count": 9,
   "metadata": {},
   "outputs": [],
   "source": [
    "def echo_args(iterable, *args, **kwargs):\n",
    "    \"\"\" This just echoes any `args` and `kwargs` and then passes everything else along.\n",
    "    \"\"\"\n",
    "    while True:\n",
    "        if args != ():\n",
    "            print(args)\n",
    "        if kwargs != {}:\n",
    "            print(kwargs)\n",
    "        \n",
    "        yield next(iterable), args, kwargs\n",
    "    "
   ]
  },
  {
   "cell_type": "code",
   "execution_count": 10,
   "metadata": {},
   "outputs": [],
   "source": [
    "new_pop, args, kwargs = toolz.pipe(pop, ops.naive_cyclic_selection_generator, ops.clone(foo='bar'), ops.mutate_bitflip(expected=2), echo_args, ops.pool(size=3))"
   ]
  },
  {
   "cell_type": "code",
   "execution_count": 11,
   "metadata": {},
   "outputs": [
    {
     "name": "stdout",
     "output_type": "stream",
     "text": [
      "[((Individual([1, 1], None, None), (), {}), (), {}),\n",
      " ((Individual([1, 1], None, None), (), {}), (), {}),\n",
      " ((Individual([1, 1], None, None), (), {}), (), {})]\n"
     ]
    }
   ],
   "source": [
    "pprint(new_pop)"
   ]
  },
  {
   "cell_type": "code",
   "execution_count": 12,
   "metadata": {},
   "outputs": [
    {
     "name": "stdout",
     "output_type": "stream",
     "text": [
      "()\n"
     ]
    }
   ],
   "source": [
    "pprint(args)"
   ]
  },
  {
   "cell_type": "code",
   "execution_count": 13,
   "metadata": {},
   "outputs": [
    {
     "name": "stdout",
     "output_type": "stream",
     "text": [
      "{}\n"
     ]
    }
   ],
   "source": [
    "pprint(kwargs)"
   ]
  },
  {
   "cell_type": "code",
   "execution_count": null,
   "metadata": {},
   "outputs": [],
   "source": []
  }
 ],
 "metadata": {
  "kernelspec": {
   "display_name": "Python 3",
   "language": "python",
   "name": "python3"
  },
  "language_info": {
   "codemirror_mode": {
    "name": "ipython",
    "version": 3
   },
   "file_extension": ".py",
   "mimetype": "text/x-python",
   "name": "python",
   "nbconvert_exporter": "python",
   "pygments_lexer": "ipython3",
   "version": "3.6.7"
  }
 },
 "nbformat": 4,
 "nbformat_minor": 2
}
