{
 "cells": [
  {
   "cell_type": "markdown",
   "metadata": {},
   "source": [
    "# Simple pipeline example of passing optional ancillary data\n",
    "\n",
    "One feature of LEAP is the ability to pass extra information down the pipeline that may be useful to some operators, such as the current generation.  This notebook provides some very basic examples of that capability.\n"
   ]
  },
  {
   "cell_type": "code",
   "execution_count": 1,
   "metadata": {},
   "outputs": [],
   "source": [
    "import sys, os\n",
    "from pprint import pprint"
   ]
  },
  {
   "cell_type": "code",
   "execution_count": 2,
   "metadata": {},
   "outputs": [],
   "source": [
    "import toolz\n",
    "\n",
    "from leap import core, ops, binary_problems"
   ]
  },
  {
   "cell_type": "markdown",
   "metadata": {},
   "source": [
    "Let's create a simple population of three individuals that have a binary representation of two bits each. "
   ]
  },
  {
   "cell_type": "code",
   "execution_count": 3,
   "metadata": {},
   "outputs": [
    {
     "data": {
      "text/plain": [
       "[Individual([0, 0], None, None),\n",
       " Individual([0, 0], None, None),\n",
       " Individual([0, 0], None, None)]"
      ]
     },
     "execution_count": 3,
     "metadata": {},
     "output_type": "execute_result"
    }
   ],
   "source": [
    "pop = []\n",
    "\n",
    "pop.append(core.Individual([0, 0]))\n",
    "pop.append(core.Individual([0, 0]))\n",
    "pop.append(core.Individual([0, 0]))\n",
    "\n",
    "pop"
   ]
  },
  {
   "cell_type": "code",
   "execution_count": 4,
   "metadata": {},
   "outputs": [],
   "source": [
    "def echo_args(iterable, *args, **kwargs):\n",
    "    \"\"\" This just echoes any `args` and `kwargs` and then passes everything else along.\n",
    "    \"\"\"\n",
    "    while True:\n",
    "        thing, pipe_args, pipe_kwargs = next(iterable)\n",
    "        \n",
    "        combined_args = (*args, *pipe_args)\n",
    "        combined_kwargs = {**kwargs, **pipe_kwargs}\n",
    "        \n",
    "        print('args:', combined_args)\n",
    "        print('kwargs:', combined_kwargs)\n",
    "        \n",
    "        yield thing, (*args, *pipe_args), {**kwargs, **pipe_kwargs}\n",
    "    "
   ]
  },
  {
   "cell_type": "code",
   "execution_count": 5,
   "metadata": {},
   "outputs": [
    {
     "name": "stdout",
     "output_type": "stream",
     "text": [
      "args: ()\n",
      "kwargs: {'foo': 'bar'}\n",
      "args: ()\n",
      "kwargs: {'foo': 'bar'}\n",
      "args: ()\n",
      "kwargs: {'foo': 'bar'}\n"
     ]
    }
   ],
   "source": [
    "new_pop, args, kwargs = toolz.pipe(pop, ops.naive_cyclic_selection_generator, ops.clone(foo='bar'), ops.mutate_bitflip(expected=2), echo_args, ops.pool(size=3))"
   ]
  },
  {
   "cell_type": "code",
   "execution_count": 6,
   "metadata": {},
   "outputs": [
    {
     "name": "stdout",
     "output_type": "stream",
     "text": [
      "[Individual([1, 1], None, None), Individual([1, 1], None, None), Individual([1, 1], None, None)]\n"
     ]
    }
   ],
   "source": [
    "print(new_pop)"
   ]
  },
  {
   "cell_type": "code",
   "execution_count": 7,
   "metadata": {},
   "outputs": [
    {
     "name": "stdout",
     "output_type": "stream",
     "text": [
      "()\n"
     ]
    }
   ],
   "source": [
    "pprint(args)"
   ]
  },
  {
   "cell_type": "code",
   "execution_count": 8,
   "metadata": {},
   "outputs": [
    {
     "name": "stdout",
     "output_type": "stream",
     "text": [
      "{'foo': 'bar'}\n"
     ]
    }
   ],
   "source": [
    "pprint(kwargs)"
   ]
  },
  {
   "cell_type": "code",
   "execution_count": null,
   "metadata": {},
   "outputs": [],
   "source": []
  }
 ],
 "metadata": {
  "kernelspec": {
   "display_name": "Python 3",
   "language": "python",
   "name": "python3"
  },
  "language_info": {
   "codemirror_mode": {
    "name": "ipython",
    "version": 3
   },
   "file_extension": ".py",
   "mimetype": "text/x-python",
   "name": "python",
   "nbconvert_exporter": "python",
   "pygments_lexer": "ipython3",
   "version": "3.6.7"
  }
 },
 "nbformat": 4,
 "nbformat_minor": 2
}
