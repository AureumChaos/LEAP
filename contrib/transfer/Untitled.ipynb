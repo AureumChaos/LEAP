{
 "cells": [
  {
   "cell_type": "code",
   "execution_count": 1,
   "metadata": {},
   "outputs": [
    {
     "ename": "ModuleNotFoundError",
     "evalue": "No module named 'leap.example'",
     "output_type": "error",
     "traceback": [
      "\u001b[0;31m----------------------------------------------------------------------\u001b[0m",
      "\u001b[0;31mModuleNotFoundError\u001b[0m                  Traceback (most recent call last)",
      "\u001b[0;32m<ipython-input-1-7ca452e1be2e>\u001b[0m in \u001b[0;36m<module>\u001b[0;34m()\u001b[0m\n\u001b[0;32m----> 1\u001b[0;31m \u001b[0;32mfrom\u001b[0m \u001b[0mleap\u001b[0m\u001b[0;34m.\u001b[0m\u001b[0mexample\u001b[0m\u001b[0;34m.\u001b[0m\u001b[0msimple_ea\u001b[0m \u001b[0;32mimport\u001b[0m \u001b[0msimple_ea\u001b[0m\u001b[0;34m\u001b[0m\u001b[0m\n\u001b[0m\u001b[1;32m      2\u001b[0m \u001b[0;32mfrom\u001b[0m \u001b[0mleap\u001b[0m \u001b[0;32mimport\u001b[0m \u001b[0mcore\u001b[0m\u001b[0;34m,\u001b[0m \u001b[0mreal\u001b[0m\u001b[0;34m,\u001b[0m \u001b[0moperate\u001b[0m \u001b[0;32mas\u001b[0m \u001b[0mop\u001b[0m\u001b[0;34m\u001b[0m\u001b[0m\n\u001b[1;32m      3\u001b[0m \u001b[0;34m\u001b[0m\u001b[0m\n\u001b[1;32m      4\u001b[0m \u001b[0;32mdef\u001b[0m \u001b[0mea\u001b[0m\u001b[0;34m(\u001b[0m\u001b[0mproblem\u001b[0m\u001b[0;34m,\u001b[0m \u001b[0minitialize\u001b[0m\u001b[0;34m,\u001b[0m \u001b[0mprobes\u001b[0m\u001b[0;34m=\u001b[0m\u001b[0;34m[\u001b[0m\u001b[0;34m]\u001b[0m\u001b[0;34m,\u001b[0m \u001b[0mstep_notify\u001b[0m\u001b[0;34m=\u001b[0m\u001b[0;34m[\u001b[0m\u001b[0;34m]\u001b[0m\u001b[0;34m,\u001b[0m \u001b[0mevals\u001b[0m\u001b[0;34m=\u001b[0m\u001b[0;36m200\u001b[0m\u001b[0;34m,\u001b[0m \u001b[0ml\u001b[0m\u001b[0;34m=\u001b[0m\u001b[0;36m2\u001b[0m\u001b[0;34m)\u001b[0m\u001b[0;34m:\u001b[0m\u001b[0;34m\u001b[0m\u001b[0m\n\u001b[1;32m      5\u001b[0m     \u001b[0mpop_size\u001b[0m\u001b[0;34m=\u001b[0m\u001b[0;36m5\u001b[0m\u001b[0;34m\u001b[0m\u001b[0m\n",
      "\u001b[0;31mModuleNotFoundError\u001b[0m: No module named 'leap.example'"
     ]
    }
   ],
   "source": [
    "from leap.example.simple_ea import simple_ea\n",
    "from leap import core, real, operate as op\n",
    "\n",
    "def ea(problem, initialize, probes=[], step_notify=[], evals=200, l=2):\n",
    "    pop_size=5\n",
    "    mutate_prob=1/l\n",
    "    mutate_std=0.5\n",
    "\n",
    "    ea = simple_ea(evals=evals, pop_size=pop_size,\n",
    "                   individual_cls=core.Individual,  # Use the standard Individual as the prototype for the population.\n",
    "                   decoder=core.IdentityDecoder(),  # Genotype and phenotype are the same for this task.\n",
    "                   problem=problem,\n",
    "                   evaluate=op.evaluate,  # Evaluate fitness with the basic evaluation operator.\n",
    "\n",
    "                   initialize=initialize,\n",
    "\n",
    "                   step_notify_list=step_notify,\n",
    "\n",
    "                   # The operator pipeline.\n",
    "                   pipeline=probes + [\n",
    "                       # Select mu parents via tournament selection.\n",
    "                       op.tournament(n=pop_size),\n",
    "                       # Clone them to create offspring.\n",
    "                       op.cloning,\n",
    "                       # Apply Gaussian mutation to each gene with a certain probability.\n",
    "                       op.mutate_gaussian(prob=mutate_prob, std=mutate_std, hard_bounds=(-5.12, 5.12))\n",
    "                   ])\n",
    "    return ea"
   ]
  },
  {
   "cell_type": "code",
   "execution_count": null,
   "metadata": {},
   "outputs": [],
   "source": [
    "%matplotlib notebook\n",
    "from matplotlib import pyplot as plt\n",
    "from mpl_toolkits.mplot3d import Axes3D\n",
    "\n",
    "from leap import real\n",
    "\n",
    "problem1 = real.Spheroid()\n",
    "problem2 = real.Rastrigin(a=10)\n",
    "problem3 = real.NoisyQuartic()\n",
    "problems = [problem1, problem2, problem3]\n",
    "\n",
    "plt.figure(figsize=(8, 2))\n",
    "plt.subplot(131, projection='3d')\n",
    "real.plot_2d_problem(problem1, ax=plt.gca(), xlim=problem1.bounds, ylim=problem1.bounds);\n",
    "plt.subplot(132, projection='3d')\n",
    "real.plot_2d_problem(problem2, ax=plt.gca(), xlim=problem2.bounds, ylim=problem2.bounds);\n",
    "plt.subplot(133, projection='3d')\n",
    "real.plot_2d_problem(problem3, ax=plt.gca(), xlim=problem3.bounds, ylim=problem3.bounds);"
   ]
  },
  {
   "cell_type": "code",
   "execution_count": null,
   "metadata": {},
   "outputs": [],
   "source": [
    "%matplotlib notebook\n",
    "from leap.probe import PlotTrajectoryProbe, PlotProbe\n",
    "\n",
    "def probe_plots(problems, modulo):\n",
    "    plt.figure(figsize=(8, 3*len(problems)))\n",
    "    trajectory_probes = []\n",
    "    fitness_probes = []\n",
    "    for i, p in enumerate(problems):\n",
    "        plt.subplot(len(problems), 2, 2*i + 1)\n",
    "        tp = PlotTrajectoryProbe(contours=p, xlim=p.bounds, ylim=p.bounds, granularity=0.1, modulo=modulo, ax=plt.gca())\n",
    "        trajectory_probes.append(tp)\n",
    "        \n",
    "        plt.subplot(len(problems), 2, 2*i + 2)\n",
    "        fp = PlotProbe(ylim=(0, 1), modulo=modulo, ax=plt.gca())\n",
    "        fitness_probes.append(fp)\n",
    "        \n",
    "    return trajectory_probes, fitness_probes\n",
    "\n",
    "trajectory_probes, fitness_probes = probe_plots([problem1, problem2, problem3], 50)"
   ]
  },
  {
   "cell_type": "code",
   "execution_count": null,
   "metadata": {},
   "outputs": [],
   "source": [
    "from leap.contrib.transfer.sequential import PopulationSeedingRepertoire\n",
    "\n",
    "def ea1(problem, initialize):\n",
    "    return ea(problem, initialize,\n",
    "              probes=[trajectory_probes[0], plot_probes[0]],\n",
    "              step_notify=[trajectory_probes[0].set_step, plot_probes[0].set_step], evals=200, l=2)\n",
    "\n",
    "random_init = real.create_real_value_sequence(bounds=[[-0.5, 0.5]] * 2)\n",
    "    \n",
    "rep = PopulationSeedingRepertoire(problems, random_init, ea1)"
   ]
  }
 ],
 "metadata": {
  "kernelspec": {
   "display_name": "LEAP_venv",
   "language": "python",
   "name": "leap_venv"
  },
  "language_info": {
   "codemirror_mode": {
    "name": "ipython",
    "version": 3
   },
   "file_extension": ".py",
   "mimetype": "text/x-python",
   "name": "python",
   "nbconvert_exporter": "python",
   "pygments_lexer": "ipython3",
   "version": "3.7.0"
  }
 },
 "nbformat": 4,
 "nbformat_minor": 2
}
